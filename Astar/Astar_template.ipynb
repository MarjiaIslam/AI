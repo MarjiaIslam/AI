{
  "nbformat": 4,
  "nbformat_minor": 0,
  "metadata": {
    "colab": {
      "provenance": []
    },
    "kernelspec": {
      "name": "python3",
      "display_name": "Python 3"
    },
    "language_info": {
      "name": "python"
    }
  },
  "cells": [
    {
      "cell_type": "code",
      "source": [
        "import math\n",
        "from queue import PriorityQueue"
      ],
      "metadata": {
        "id": "rOnzf4lxfQtR"
      },
      "execution_count": null,
      "outputs": []
    },
    {
      "cell_type": "code",
      "source": [
        "coords = {} # node id is the key\n",
        "adjlist = {} # node id is the key\n",
        "with open('input.txt','r') as f:\n",
        "    V = int(f.readline())\n",
        "    for i in range(V):\n",
        "        strs = f.readline().split()\n",
        "        nid, x, y = strs[0], int(strs[1]), int(strs[2])\n",
        "        coords[nid] = (x, y) # x, y kept as a tuple\n",
        "        adjlist[nid] = [] #create empty list for each node's adjnodes\n",
        "\n",
        "    E = int(f.readline())\n",
        "    for i in range(E):\n",
        "        strs = f.readline().split()\n",
        "        n1, n2, c = strs[0], strs[1], int(strs[2])\n",
        "        adjlist[n1].append((n2, c)) # (n2, c) tuple\n",
        "    startnid = f.readline().rstrip()\n",
        "    goalnid = f.readline().rstrip()\n",
        "\n",
        "print('graph')\n",
        "for nid in adjlist:\n",
        "    print(nid, coords[nid], '--->',  adjlist[nid])\n",
        "    for tup in adjlist[nid]:\n",
        "        print('\\t', tup[0], tup[1])\n",
        "print('start', startnid, 'goal', goalnid)"
      ],
      "metadata": {
        "colab": {
          "base_uri": "https://localhost:8080/"
        },
        "id": "B6ttHdCQlcID",
        "outputId": "99c1e212-d5cd-4423-dd96-b89e5362ac84"
      },
      "execution_count": null,
      "outputs": [
        {
          "output_type": "stream",
          "name": "stdout",
          "text": [
            "graph\n",
            "S (6, 0) ---> [('A', 1), ('C', 2), ('D', 4)]\n",
            "\t A 1\n",
            "\t C 2\n",
            "\t D 4\n",
            "A (6, 0) ---> [('B', 2)]\n",
            "\t B 2\n",
            "B (1, 0) ---> [('A', 2), ('G', 1)]\n",
            "\t A 2\n",
            "\t G 1\n",
            "C (2, 0) ---> [('S', 2), ('G', 4)]\n",
            "\t S 2\n",
            "\t G 4\n",
            "D (1, 0) ---> [('G', 4)]\n",
            "\t G 4\n",
            "G (0, 0) ---> []\n",
            "start S goal G\n"
          ]
        }
      ]
    },
    {
      "cell_type": "code",
      "source": [
        "coords['D']"
      ],
      "metadata": {
        "colab": {
          "base_uri": "https://localhost:8080/"
        },
        "id": "NRV8e59udmHz",
        "outputId": "9c95264d-25b4-4e05-cc86-7291369dca20"
      },
      "execution_count": null,
      "outputs": [
        {
          "output_type": "execute_result",
          "data": {
            "text/plain": [
              "(1, 0)"
            ]
          },
          "metadata": {},
          "execution_count": 3
        }
      ]
    },
    {
      "cell_type": "code",
      "source": [
        "adjlist['C']"
      ],
      "metadata": {
        "colab": {
          "base_uri": "https://localhost:8080/"
        },
        "id": "Xgwxuu5EdpXS",
        "outputId": "9ff5f3b7-4d47-4168-c5af-4e53351cc571"
      },
      "execution_count": null,
      "outputs": [
        {
          "output_type": "execute_result",
          "data": {
            "text/plain": [
              "[('S', 2), ('G', 4)]"
            ]
          },
          "metadata": {},
          "execution_count": 4
        }
      ]
    },
    {
      "cell_type": "code",
      "source": [
        "def heuristic():\n",
        "    # complete it yourself"
      ],
      "metadata": {
        "id": "1jaV8BOhmW6w"
      },
      "execution_count": null,
      "outputs": []
    },
    {
      "cell_type": "code",
      "source": [
        "class State:\n",
        "    # Constructor\n",
        "        # nid, g, f, parent ..."
      ],
      "metadata": {
        "id": "HIPWM90Seokr"
      },
      "execution_count": null,
      "outputs": []
    },
    {
      "cell_type": "code",
      "source": [
        "class C:\n",
        "    ___init\n",
        "\n",
        "\n",
        "        self.id =\n",
        "        self.parent = state\n",
        "        self.g\n",
        "        self.f\n",
        "\n",
        "    __lt__\n",
        "\n",
        "    __eq__\n",
        "\n",
        "    __str__\n",
        "\n",
        "\n",
        "\n",
        "start = C('S', None, 0, 0+heuristic(start))\n",
        "\n",
        "while ...\n",
        "    curr = .. gt\n",
        "\n",
        "    .... solution\n",
        "\n",
        "\tFor each node M adjacent to node currstate.node do\n",
        "        g ← currstate.g + edge_cost(currstate.node, M)\n",
        "\t\th ←  euclidean_distance(M, goalnode)\n",
        "\t\tf ← g+h\n",
        "\t\tcreate newstate(M, g, f, parent=currstate)\n",
        "\t\tinsert newstate to minQ\n",
        "\n"
      ],
      "metadata": {
        "id": "eAWuxcqDXoej"
      },
      "execution_count": null,
      "outputs": []
    },
    {
      "cell_type": "code",
      "source": [],
      "metadata": {
        "id": "h5CA57B5fODb"
      },
      "execution_count": null,
      "outputs": []
    },
    {
      "cell_type": "code",
      "source": [
        "from queue import PriorityQueue\n",
        "\n",
        "q = PriorityQueue()\n",
        "\n",
        "# q.put( (f, state) )\n",
        "q.put( (4, 5, 'Read') )\n",
        "q.put( (2, 2, 'Play') )\n",
        "q.put( (4, 4, 'Write') )\n",
        "q.put( (4, 6, 'Listen') )\n",
        "q.put( (1, 1, 'Code') )\n",
        "q.put( (3, 3, 'Study') )\n",
        "\n",
        "while not q.empty():\n",
        "    tup = q.get()\n",
        "    print(tup[0], tup[1])"
      ],
      "metadata": {
        "id": "olHygvUMZB32",
        "colab": {
          "base_uri": "https://localhost:8080/"
        },
        "outputId": "e95d1e41-40ec-48a8-ac79-de9063a28464"
      },
      "execution_count": null,
      "outputs": [
        {
          "output_type": "stream",
          "name": "stdout",
          "text": [
            "1 1\n",
            "2 2\n",
            "3 3\n",
            "4 4\n",
            "4 5\n",
            "4 6\n"
          ]
        }
      ]
    },
    {
      "cell_type": "code",
      "source": [
        "from queue import PriorityQueue\n",
        "\n",
        "\n",
        "class C:\n",
        "    def __init__(self, a, b):\n",
        "        self.a = a\n",
        "        self.b = b\n",
        "\n",
        "    def __lt__(self, other):\n",
        "        return self.b > other.b\n",
        "\n",
        "    def __eq__(self, other):\n",
        "        return self.a==other.a and self.b==other.b\n",
        "\n",
        "\n",
        "c1 = C(1, 2)\n",
        "c2 = C(1, 2)\n",
        "c3 = C(1, 3)\n",
        "c4 = C(3, 2)\n",
        "q = PriorityQueue()\n",
        "# q.put( state )\n",
        "q.put(c1)\n",
        "q.put(c2)\n",
        "q.put(c3)\n",
        "q.put(c4)\n",
        "while not q.empty():\n",
        "    c = q.get()\n",
        "    print(c.a, c.b)"
      ],
      "metadata": {
        "id": "jzNokMrfS3pv",
        "colab": {
          "base_uri": "https://localhost:8080/"
        },
        "outputId": "fc0a8618-651a-4e6e-a236-e59f1f602d9b"
      },
      "execution_count": null,
      "outputs": [
        {
          "output_type": "stream",
          "name": "stdout",
          "text": [
            "1 3\n",
            "1 2\n",
            "1 2\n",
            "3 2\n"
          ]
        }
      ]
    },
    {
      "cell_type": "code",
      "source": [
        "from types import NoneType\n",
        "G = goal_state\n",
        "\n",
        "A = goal_state.parent\n",
        "\n",
        "B = A.parent\n",
        "...\n",
        "\n",
        "S  = X.parent\n",
        "\n",
        "S.parent = None\n",
        "\n",
        "S ..... B A G"
      ],
      "metadata": {
        "id": "fIdEuIasgi8k"
      },
      "execution_count": null,
      "outputs": []
    }
  ]
}