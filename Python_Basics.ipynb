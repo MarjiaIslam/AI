{
  "nbformat": 4,
  "nbformat_minor": 0,
  "metadata": {
    "colab": {
      "provenance": []
    },
    "kernelspec": {
      "name": "python3",
      "display_name": "Python 3"
    },
    "language_info": {
      "name": "python"
    }
  },
  "cells": [
    {
      "cell_type": "markdown",
      "source": [
        "# Python Coding Platform\n",
        "* Google Colab (Online)\n",
        "* Anaconda Full version (Offline)\n",
        "* IDE: VSCode, PyCharm, Spyder, Jupyter notebook"
      ],
      "metadata": {
        "id": "Y2os8KdtIX2s"
      }
    },
    {
      "cell_type": "markdown",
      "source": [
        "# What is google colab?\n",
        "\n",
        "*   Colaboratory, or “Colab” for short, is a product from Google Research. Colab allows anybody to write and execute arbitrary python code through the browser, and is especially well suited to machine learning, data analysis and education. More technically, Colab is a hosted Jupyter notebook service that requires no setup to use, while providing free access to computing resources including GPUs.\n",
        "*  [Google Colab Setup](https://www.youtube.com/watch?v=RTOOo39iaSU&fbclid=IwAR3d4ONzNXsfRxGVOF0VQhiwhwnk4pfcKRTTHt5GXmwKJNSO-Xr180HZ7Pkhttps://)"
      ],
      "metadata": {
        "id": "9MWZkZPZvv9U"
      }
    },
    {
      "cell_type": "markdown",
      "source": [
        "# Variable\n",
        "\n",
        "*   dynamically typed (C variables are statically typed)\n",
        "*   do not need explicit declaration\n",
        "* declaration happens automatically when you assign a value to a variable\n",
        "\n",
        "\n",
        "\n",
        "\n"
      ],
      "metadata": {
        "id": "AL4ANYcAwiI5"
      }
    },
    {
      "cell_type": "code",
      "source": [
        "a = 'hello world'\n",
        "print(a, type(a))\n",
        "a = \"hello world\"\n",
        "print(a)"
      ],
      "metadata": {
        "colab": {
          "base_uri": "https://localhost:8080/"
        },
        "id": "BxPgeTHOvvMN",
        "outputId": "36fdd7ff-57d7-488b-c9c7-ec9a7487cdc9"
      },
      "execution_count": null,
      "outputs": [
        {
          "output_type": "stream",
          "name": "stdout",
          "text": [
            "hello world <class 'str'>\n",
            "hello world\n"
          ]
        }
      ]
    },
    {
      "cell_type": "code",
      "source": [
        "a = 5\n",
        "b = 10"
      ],
      "metadata": {
        "id": "4lPvpiQigNwA"
      },
      "execution_count": null,
      "outputs": []
    },
    {
      "cell_type": "code",
      "source": [
        "a, b = 5, 10"
      ],
      "metadata": {
        "id": "8vPW1RVbgTu3"
      },
      "execution_count": null,
      "outputs": []
    },
    {
      "cell_type": "code",
      "execution_count": null,
      "metadata": {
        "colab": {
          "base_uri": "https://localhost:8080/"
        },
        "id": "QZZyN7luvk2X",
        "outputId": "d9b534a5-7003-4ec7-9567-2b94d300f7f1"
      },
      "outputs": [
        {
          "output_type": "stream",
          "name": "stdout",
          "text": [
            "5 apples\n",
            "5 apples\n",
            "5 apples, 10 oranges\n",
            " 5 apples, 10 oranges\n",
            "5 apples 10 oranges\n"
          ]
        }
      ],
      "source": [
        "print(a, 'apples')\n",
        "# formatted print; similar to printf(f\"{a} apples\");\n",
        "print(f\"{a} apples\")\n",
        "\n",
        "print(f\"{a} apples, {b} oranges\") # 5 apples, 10 oranges\n",
        "print(\"%2d apples, %2d oranges\" % (a, b))\n",
        "\n",
        "print(a, 'apples', b, 'oranges')"
      ]
    },
    {
      "cell_type": "code",
      "source": [
        "a = 3.5\n",
        "a = a + 1 # 4.5\n",
        "a = a - 2 # 2.5\n",
        "a = a * 2 # 5\n",
        "a = a / 2 # 2.5\n",
        "a = a ** 2 # 2.5^2=6.25\n",
        "a = a % 5 # 1.25 # modulus\n",
        "print(a)"
      ],
      "metadata": {
        "colab": {
          "base_uri": "https://localhost:8080/"
        },
        "id": "E18nmhR-y15C",
        "outputId": "fc314646-335d-49ce-fa4d-ba3497970566"
      },
      "execution_count": null,
      "outputs": [
        {
          "output_type": "stream",
          "name": "stdout",
          "text": [
            "1.25\n"
          ]
        }
      ]
    },
    {
      "cell_type": "code",
      "source": [
        "b = 3 ** 5 # 3^5\n",
        "b = 6 % 4 # 2\n",
        "print(b)"
      ],
      "metadata": {
        "colab": {
          "base_uri": "https://localhost:8080/"
        },
        "id": "evgBoCkIMrFs",
        "outputId": "45457b5c-ebb2-4c58-ada4-f64e13b2695e"
      },
      "execution_count": null,
      "outputs": [
        {
          "output_type": "stream",
          "name": "stdout",
          "text": [
            "2\n"
          ]
        }
      ]
    },
    {
      "cell_type": "code",
      "source": [
        "s = 'hello'\n",
        "s = s + 'UIU'\n",
        "print(s) # 'helloUIU'\n",
        "s = s * 3\n",
        "print(s) # 'helloUIUhelloUIUhelloUIU'"
      ],
      "metadata": {
        "colab": {
          "base_uri": "https://localhost:8080/"
        },
        "id": "6qfqYesHz4nK",
        "outputId": "621ff896-dadf-4752-e9f9-806ba8654d7c"
      },
      "execution_count": null,
      "outputs": [
        {
          "output_type": "stream",
          "name": "stdout",
          "text": [
            "helloUIU\n",
            "helloUIUhelloUIUhelloUIU\n"
          ]
        }
      ]
    },
    {
      "cell_type": "markdown",
      "source": [
        "## Typecast"
      ],
      "metadata": {
        "id": "ABvBgAjazBOY"
      }
    },
    {
      "cell_type": "code",
      "source": [
        "a = '12343'\n",
        "print(type(a)) # <class 'str'>\n",
        "\n",
        "a = int(a)\n",
        "print(a, type(a)) # <class 'int'>"
      ],
      "metadata": {
        "colab": {
          "base_uri": "https://localhost:8080/"
        },
        "id": "tHtxC7Lry7JG",
        "outputId": "d3dc9115-77b6-41cb-c4eb-4a8d6a1fedf3"
      },
      "execution_count": null,
      "outputs": [
        {
          "output_type": "stream",
          "name": "stdout",
          "text": [
            "<class 'str'>\n",
            "12343 <class 'int'>\n"
          ]
        }
      ]
    },
    {
      "cell_type": "code",
      "source": [
        "a = str(100)\n",
        "print(a+a)\n",
        "\n",
        "a = 'fariha'\n",
        "x = 500\n",
        "s = a + str(x)\n",
        "print(s)"
      ],
      "metadata": {
        "colab": {
          "base_uri": "https://localhost:8080/"
        },
        "id": "9RBoB0NKy_g2",
        "outputId": "46dd2236-7e2d-4706-ef77-1026978f1a0c"
      },
      "execution_count": null,
      "outputs": [
        {
          "output_type": "stream",
          "name": "stdout",
          "text": [
            "100100\n",
            "fariha500\n"
          ]
        }
      ]
    },
    {
      "cell_type": "markdown",
      "source": [
        "## Take input\n",
        "\n",
        "\n",
        "*   python input is string unless you typecast\n",
        "\n"
      ],
      "metadata": {
        "id": "gE_gDIenzWQS"
      }
    },
    {
      "cell_type": "code",
      "source": [
        "a = int(input())\n",
        "print(a, type(a))\n",
        "print(a**2)"
      ],
      "metadata": {
        "colab": {
          "base_uri": "https://localhost:8080/"
        },
        "id": "edypHTU-N409",
        "outputId": "ae73c13c-6d3f-4717-b18b-ef01935f5853"
      },
      "execution_count": null,
      "outputs": [
        {
          "output_type": "stream",
          "name": "stdout",
          "text": [
            "5\n",
            "5 <class 'int'>\n",
            "25\n"
          ]
        }
      ]
    },
    {
      "cell_type": "code",
      "source": [
        "x = input('Enter your name ')\n",
        "print('you entered', x)"
      ],
      "metadata": {
        "id": "WAzjvx6SNHaD"
      },
      "execution_count": null,
      "outputs": []
    },
    {
      "cell_type": "code",
      "source": [
        "n = input()\n",
        "print('input is', n)\n",
        "n = n * 2\n",
        "print('input * 2 is', n)"
      ],
      "metadata": {
        "id": "MqhQIcRBzQeY"
      },
      "execution_count": null,
      "outputs": []
    },
    {
      "cell_type": "code",
      "source": [
        "n = float(input('Enter a number: '))\n",
        "print('input is', n)\n",
        "n = n * 2\n",
        "print('input * 2 is', n)"
      ],
      "metadata": {
        "id": "6xL4sRf20V9X"
      },
      "execution_count": null,
      "outputs": []
    },
    {
      "cell_type": "markdown",
      "source": [
        "# If Else\n",
        "\n",
        "\n",
        "*   if\n",
        "*   elif\n",
        "*   else\n",
        "*   NO CURLY BRACES. **INDENTATION MATTERS.**\n",
        "\n",
        "\n"
      ],
      "metadata": {
        "id": "u14fxA-W05wc"
      }
    },
    {
      "cell_type": "code",
      "source": [
        "a, b = 12, 33\n",
        "if (a < b):\n",
        "      print('hello')\n",
        "      if a < 10:\n",
        "        print( a, ' is less than 10')\n"
      ],
      "metadata": {
        "colab": {
          "base_uri": "https://localhost:8080/"
        },
        "id": "4mrouySzOZ_l",
        "outputId": "72b67166-f00a-4d11-885d-ee599066a7e5"
      },
      "execution_count": null,
      "outputs": [
        {
          "output_type": "stream",
          "name": "stdout",
          "text": [
            "hello\n"
          ]
        }
      ]
    },
    {
      "cell_type": "code",
      "source": [
        "# a = 2\n",
        "# b = 5\n",
        "a, b = 20, 5\n",
        "if a > b:\n",
        "    print('a is greater than b') # yes\n",
        "    if a < 10:\n",
        "        print('a is less than 10') # no\n",
        "    elif a < 100: # else if\n",
        "        print('a is greater than 9 and less than 100') # yes\n",
        "else:\n",
        "    print('a is not greater than b') # no"
      ],
      "metadata": {
        "colab": {
          "base_uri": "https://localhost:8080/"
        },
        "id": "uLEhNKiqN5ml",
        "outputId": "d921c125-a806-4803-e140-1218376ee738"
      },
      "execution_count": null,
      "outputs": [
        {
          "output_type": "stream",
          "name": "stdout",
          "text": [
            "a is greater than b\n",
            "a is greater than 9 and less than 100\n"
          ]
        }
      ]
    },
    {
      "cell_type": "code",
      "source": [
        "a = 23\n",
        "b = 2456632412434312513343\n",
        "if a > b:\n",
        "    print(a, 'is greater than', b)\n",
        "elif a == b:\n",
        "    print(a, 'is equal to', b)\n",
        "else:\n",
        "    print(a, 'is less than', b)"
      ],
      "metadata": {
        "colab": {
          "base_uri": "https://localhost:8080/"
        },
        "id": "GOtg84QW04SK",
        "outputId": "3fcf9f56-a854-44ef-f9f0-921cdb49f7e5"
      },
      "execution_count": null,
      "outputs": [
        {
          "output_type": "stream",
          "name": "stdout",
          "text": [
            "23 is less than 2456632412434312513343\n"
          ]
        }
      ]
    },
    {
      "cell_type": "markdown",
      "source": [
        "# [Operators](https://www.w3schools.com/python/python_operators.asp)"
      ],
      "metadata": {
        "id": "2TY08fTy2Cc7"
      }
    },
    {
      "cell_type": "code",
      "source": [
        "a = 2\n",
        "if a > 1 and a <= 10: # yes\n",
        "    print('1 < a <= 10')\n",
        "if a == 2 or a >= 1: # yes\n",
        "    print('a is greater than or equal to 1')\n",
        "if a == 2: # yes\n",
        "    print('a is 2')\n",
        "if a != 2: # no\n",
        "    print('a is not 2')\n",
        "\n",
        "if a is 2: # yes\n",
        "    print('a is 2')\n",
        "if a is not 4: # yes\n",
        "    print('a is not 4')"
      ],
      "metadata": {
        "colab": {
          "base_uri": "https://localhost:8080/"
        },
        "id": "if5ojTUe4102",
        "outputId": "54a23c98-5b59-44a7-8f9a-23d83c7b4b62"
      },
      "execution_count": null,
      "outputs": [
        {
          "output_type": "stream",
          "name": "stdout",
          "text": [
            "1<a<=10\n",
            "a is greater than or equal to 1\n",
            "a is 2\n",
            "a is 2\n",
            "a is not 4\n"
          ]
        }
      ]
    },
    {
      "cell_type": "markdown",
      "source": [
        "# [For loop](https://www.w3schools.com/python/python_for_loops.asp)"
      ],
      "metadata": {
        "id": "ILCrVivf3VlC"
      }
    },
    {
      "cell_type": "code",
      "source": [
        "# for (int i=0; i<10; i++)\n",
        "for i in range(10):\n",
        "    print(i)"
      ],
      "metadata": {
        "colab": {
          "base_uri": "https://localhost:8080/"
        },
        "id": "pb4--2gSfLLr",
        "outputId": "687b68b1-834a-447b-c256-f5517b10f535"
      },
      "execution_count": null,
      "outputs": [
        {
          "output_type": "stream",
          "name": "stdout",
          "text": [
            "0\n",
            "1\n",
            "2\n",
            "3\n",
            "4\n",
            "5\n",
            "6\n",
            "7\n",
            "8\n",
            "9\n"
          ]
        }
      ]
    },
    {
      "cell_type": "code",
      "source": [
        "for i in range(0, 10, 2):\n",
        "    print(i)"
      ],
      "metadata": {
        "colab": {
          "base_uri": "https://localhost:8080/"
        },
        "id": "bUqmpeXyfbps",
        "outputId": "37f92dfb-41b3-4c74-ceb0-8328335de242"
      },
      "execution_count": null,
      "outputs": [
        {
          "output_type": "stream",
          "name": "stdout",
          "text": [
            "0\n",
            "2\n",
            "4\n",
            "6\n",
            "8\n"
          ]
        }
      ]
    },
    {
      "cell_type": "code",
      "source": [
        "for i in range(0, 8, 2):\n",
        "    print(i)"
      ],
      "metadata": {
        "colab": {
          "base_uri": "https://localhost:8080/"
        },
        "id": "BLnTOPwwP_86",
        "outputId": "44a9bb3f-a7b2-49a2-c09a-841cc0d24ed6"
      },
      "execution_count": null,
      "outputs": [
        {
          "output_type": "stream",
          "name": "stdout",
          "text": [
            "0\n",
            "2\n",
            "4\n",
            "6\n"
          ]
        }
      ]
    },
    {
      "cell_type": "code",
      "source": [
        "for i in range(1, 11): # 0 <= i <3\n",
        "    print(i)"
      ],
      "metadata": {
        "colab": {
          "base_uri": "https://localhost:8080/"
        },
        "id": "Nc6KPh0V3c65",
        "outputId": "e4c18d82-2865-461b-ee7b-d40743fd9872"
      },
      "execution_count": null,
      "outputs": [
        {
          "output_type": "stream",
          "name": "stdout",
          "text": [
            "1\n",
            "2\n",
            "3\n",
            "4\n",
            "5\n",
            "6\n",
            "7\n",
            "8\n",
            "9\n",
            "10\n"
          ]
        }
      ]
    },
    {
      "cell_type": "code",
      "source": [
        "for i in range(0, 10):\n",
        "    if i==3: break\n",
        "    print(i)\n",
        "print('reached end')"
      ],
      "metadata": {
        "colab": {
          "base_uri": "https://localhost:8080/"
        },
        "id": "FekoB-b03neW",
        "outputId": "023ef997-76c0-488b-b56e-a109787722bd"
      },
      "execution_count": null,
      "outputs": [
        {
          "output_type": "stream",
          "name": "stdout",
          "text": [
            "0\n",
            "1\n",
            "2\n",
            "reached end\n"
          ]
        }
      ]
    },
    {
      "cell_type": "code",
      "source": [
        "# 3, 7, 11, 15, 19\n",
        "for i in range(3, 20, 4):\n",
        "    print(i)"
      ],
      "metadata": {
        "colab": {
          "base_uri": "https://localhost:8080/"
        },
        "id": "JeRTaLx0QqtS",
        "outputId": "219be4f0-e870-409c-d164-e6cd76e17d38"
      },
      "execution_count": null,
      "outputs": [
        {
          "output_type": "stream",
          "name": "stdout",
          "text": [
            "3\n",
            "7\n",
            "11\n",
            "15\n",
            "19\n"
          ]
        }
      ]
    },
    {
      "cell_type": "code",
      "source": [
        "for i in range(0, 10, 3): # start, end, stepsize\n",
        "    print(i)"
      ],
      "metadata": {
        "colab": {
          "base_uri": "https://localhost:8080/"
        },
        "id": "mYfLP0Gn3sv8",
        "outputId": "58e188d5-d8e8-4346-99cb-11a1eaa9bac6"
      },
      "execution_count": null,
      "outputs": [
        {
          "output_type": "stream",
          "name": "stdout",
          "text": [
            "0 <class 'int'>\n",
            "3 <class 'int'>\n",
            "6 <class 'int'>\n",
            "9 <class 'int'>\n"
          ]
        }
      ]
    },
    {
      "cell_type": "markdown",
      "source": [
        "# While loop"
      ],
      "metadata": {
        "id": "uzAXKTq437BI"
      }
    },
    {
      "cell_type": "code",
      "source": [
        "n = 5/2\n",
        "print(n)"
      ],
      "metadata": {
        "colab": {
          "base_uri": "https://localhost:8080/"
        },
        "id": "3xbeJ75ZRoHe",
        "outputId": "9e1b3803-f097-4bd4-cef0-2f910bcbc04f"
      },
      "execution_count": null,
      "outputs": [
        {
          "output_type": "stream",
          "name": "stdout",
          "text": [
            "2\n"
          ]
        }
      ]
    },
    {
      "cell_type": "code",
      "source": [
        "n = 0\n",
        "while True:\n",
        "    print(n)\n",
        "    # n++, n--, --n, ++n is not supported\n",
        "    n += 1\n",
        "    n = n+1\n",
        "    n = n-1\n",
        "    n -= 1\n",
        "    n *= 2\n",
        "    n /= 2\n",
        "    n += 1\n",
        "    if n == 5: break"
      ],
      "metadata": {
        "colab": {
          "base_uri": "https://localhost:8080/"
        },
        "id": "XFjIH41vRBZy",
        "outputId": "03712056-2927-4c9a-d937-b4389ac726ac"
      },
      "execution_count": null,
      "outputs": [
        {
          "output_type": "stream",
          "name": "stdout",
          "text": [
            "0\n",
            "1.0\n",
            "2.0\n",
            "3.0\n",
            "4.0\n"
          ]
        }
      ]
    },
    {
      "cell_type": "code",
      "source": [
        "i = 1\n",
        "while i < 6:\n",
        "    print(i)\n",
        "    i += 2"
      ],
      "metadata": {
        "colab": {
          "base_uri": "https://localhost:8080/"
        },
        "id": "6UlRmkWa38yt",
        "outputId": "13fc7e73-41f5-483a-aeae-4c824150de72"
      },
      "execution_count": null,
      "outputs": [
        {
          "output_type": "stream",
          "name": "stdout",
          "text": [
            "1\n",
            "3\n",
            "5\n"
          ]
        }
      ]
    },
    {
      "cell_type": "code",
      "source": [
        "i = 1\n",
        "while i < 100:\n",
        "    if i % 10 == 0:\n",
        "        print(i)\n",
        "    elif i % 23 == 0:\n",
        "        print(i, 'need to break')\n",
        "        break\n",
        "    i += 3"
      ],
      "metadata": {
        "colab": {
          "base_uri": "https://localhost:8080/"
        },
        "id": "p1-W-YWL4Ct0",
        "outputId": "a032ee57-7e6a-4c93-f709-84e012d11362"
      },
      "execution_count": null,
      "outputs": [
        {
          "output_type": "stream",
          "name": "stdout",
          "text": [
            "10\n",
            "40\n",
            "46 need to break\n"
          ]
        }
      ]
    },
    {
      "cell_type": "markdown",
      "source": [
        "# [List](https://www.w3schools.com/python/python_lists.asp)\n",
        "\n",
        "\n",
        "*   Heterogenous\n",
        "*   Multiple data type can be present in a single list\n",
        "\n"
      ],
      "metadata": {
        "id": "BJ7pKVUC5K-m"
      }
    },
    {
      "cell_type": "code",
      "source": [
        "arr = ['apple', 'grape', 100, 3.4, [1, 2] , (2, 3)]\n",
        "print(arr)"
      ],
      "metadata": {
        "colab": {
          "base_uri": "https://localhost:8080/"
        },
        "id": "jiSCIjsBTACo",
        "outputId": "7ab278ef-ab13-4a25-95f5-9fba096dace2"
      },
      "execution_count": null,
      "outputs": [
        {
          "output_type": "stream",
          "name": "stdout",
          "text": [
            "['apple', 'grape', 100, 3.4, [1, 2], (2, 3)]\n"
          ]
        }
      ]
    },
    {
      "cell_type": "markdown",
      "source": [
        "## indexing"
      ],
      "metadata": {
        "id": "f9OpODfeTgQC"
      }
    },
    {
      "cell_type": "code",
      "source": [
        "print(arr[0])\n",
        "print(arr[4], arr[4][0], arr[4][1])"
      ],
      "metadata": {
        "colab": {
          "base_uri": "https://localhost:8080/"
        },
        "id": "ubRjZBIYTZih",
        "outputId": "01aac746-9284-4924-b333-bf67e2c1a150"
      },
      "execution_count": null,
      "outputs": [
        {
          "output_type": "stream",
          "name": "stdout",
          "text": [
            "apple\n",
            "[1, 2] 1 2\n"
          ]
        }
      ]
    },
    {
      "cell_type": "markdown",
      "source": [
        "## insert"
      ],
      "metadata": {
        "id": "uLC9TtHmVCyZ"
      }
    },
    {
      "cell_type": "code",
      "source": [
        "arr.append('orange') # inserts at the last\n",
        "print(arr)"
      ],
      "metadata": {
        "colab": {
          "base_uri": "https://localhost:8080/"
        },
        "id": "Vr4IPMF4TjZP",
        "outputId": "6647a716-914d-48d1-f52c-fedbaca6817c"
      },
      "execution_count": null,
      "outputs": [
        {
          "output_type": "stream",
          "name": "stdout",
          "text": [
            "['apple', 'grape', 100, 3.4, [1, 2], 'orange']\n"
          ]
        }
      ]
    },
    {
      "cell_type": "code",
      "source": [
        "arr.insert(1, 560)\n",
        "print(arr)"
      ],
      "metadata": {
        "colab": {
          "base_uri": "https://localhost:8080/"
        },
        "id": "r8u-GdCEVKfH",
        "outputId": "e6a31790-fa6e-47a1-c3ba-af5789f207e8"
      },
      "execution_count": null,
      "outputs": [
        {
          "output_type": "stream",
          "name": "stdout",
          "text": [
            "['apple', 560, 'grape', 100, 3.4, [1, 2], 'orange']\n"
          ]
        }
      ]
    },
    {
      "cell_type": "markdown",
      "source": [
        "## delete"
      ],
      "metadata": {
        "id": "QqdTp4gxVuIE"
      }
    },
    {
      "cell_type": "code",
      "source": [
        "print(arr.pop(2)) # delete from index\n",
        "print(arr)"
      ],
      "metadata": {
        "colab": {
          "base_uri": "https://localhost:8080/"
        },
        "id": "U8rTRxUvVlt9",
        "outputId": "ec9f1b23-2adf-4b12-e1be-d93c47fbc4a1"
      },
      "execution_count": null,
      "outputs": [
        {
          "output_type": "stream",
          "name": "stdout",
          "text": [
            "3.4\n",
            "['apple', 'grape', [1, 2], (2, 3)]\n"
          ]
        }
      ]
    },
    {
      "cell_type": "code",
      "source": [
        "arr = [1,2,3,4,'orange', 'apple', 'orange']\n",
        "arr.remove(4)\n",
        "print(arr)"
      ],
      "metadata": {
        "colab": {
          "base_uri": "https://localhost:8080/"
        },
        "id": "7ZVYSdfCWfh9",
        "outputId": "8bbb7284-a1a7-4ec4-df4a-57fb43a31422"
      },
      "execution_count": null,
      "outputs": [
        {
          "output_type": "stream",
          "name": "stdout",
          "text": [
            "[1, 2, 3, 'orange', 'apple', 'orange']\n"
          ]
        }
      ]
    },
    {
      "cell_type": "markdown",
      "source": [
        "## search"
      ],
      "metadata": {
        "id": "DBY1UGLxWgQG"
      }
    },
    {
      "cell_type": "code",
      "source": [
        "if 'grape' in arr:\n",
        "    print('found grape')\n",
        "if 'orange' not in arr:\n",
        "    print('orange not found')"
      ],
      "metadata": {
        "id": "V8B_LUCoV07h"
      },
      "execution_count": null,
      "outputs": []
    },
    {
      "cell_type": "markdown",
      "source": [
        "## iterating a list"
      ],
      "metadata": {
        "id": "pTD1raoEXjdj"
      }
    },
    {
      "cell_type": "code",
      "source": [
        "print(len(arr))"
      ],
      "metadata": {
        "colab": {
          "base_uri": "https://localhost:8080/"
        },
        "id": "lp6tozsuXaFn",
        "outputId": "495804b0-c7f3-4c3e-a4cc-e9095f26de9c"
      },
      "execution_count": null,
      "outputs": [
        {
          "output_type": "stream",
          "name": "stdout",
          "text": [
            "5\n"
          ]
        }
      ]
    },
    {
      "cell_type": "markdown",
      "source": [
        "### way1"
      ],
      "metadata": {
        "id": "4ti7J-aRn44U"
      }
    },
    {
      "cell_type": "code",
      "source": [
        "for item in arr:\n",
        "    print(item)"
      ],
      "metadata": {
        "colab": {
          "base_uri": "https://localhost:8080/"
        },
        "id": "JUN96eLDXnz4",
        "outputId": "609dade7-9852-4851-c6be-2192ca88eaa7"
      },
      "execution_count": null,
      "outputs": [
        {
          "output_type": "stream",
          "name": "stdout",
          "text": [
            "apple\n",
            "orange\n"
          ]
        }
      ]
    },
    {
      "cell_type": "markdown",
      "source": [
        "### way2"
      ],
      "metadata": {
        "id": "mjL6INm5n7cz"
      }
    },
    {
      "cell_type": "code",
      "source": [
        "for i in range(0, len(arr)):\n",
        "    print(arr[i])"
      ],
      "metadata": {
        "colab": {
          "base_uri": "https://localhost:8080/"
        },
        "id": "VxWJlKGrXrJP",
        "outputId": "5e58872c-6cea-45d0-bf59-2a0823f2a669"
      },
      "execution_count": null,
      "outputs": [
        {
          "output_type": "stream",
          "name": "stdout",
          "text": [
            "apple\n",
            "grape\n",
            "100\n",
            "3.4\n",
            "[1, 2]\n"
          ]
        }
      ]
    },
    {
      "cell_type": "code",
      "source": [
        "arr =  []\n",
        "for i in range(2, 30, 2):\n",
        "    arr.append(i)\n",
        "print(arr)"
      ],
      "metadata": {
        "colab": {
          "base_uri": "https://localhost:8080/"
        },
        "id": "J6cpM4_HXyBM",
        "outputId": "4a8112b9-39be-463c-8fa1-33d908d722d0"
      },
      "execution_count": null,
      "outputs": [
        {
          "output_type": "stream",
          "name": "stdout",
          "text": [
            "[2, 4, 6, 8, 10, 12, 14, 16, 18, 20, 22, 24, 26, 28]\n"
          ]
        }
      ]
    },
    {
      "cell_type": "markdown",
      "source": [
        "## slicing"
      ],
      "metadata": {
        "id": "Thm77bNZYCs8"
      }
    },
    {
      "cell_type": "code",
      "source": [
        "arr = [2, 4, 6, 8, 10, 12, 14, 16, 18, 20, 22, 24, 26, 28]"
      ],
      "metadata": {
        "id": "yQjCSaQBoD-q"
      },
      "execution_count": null,
      "outputs": []
    },
    {
      "cell_type": "code",
      "source": [
        "temp = arr[1:5]\n",
        "print(temp)"
      ],
      "metadata": {
        "colab": {
          "base_uri": "https://localhost:8080/"
        },
        "id": "P74E3ty3YASr",
        "outputId": "5f254d9c-e2b0-4241-b2cc-4c46560cf784"
      },
      "execution_count": null,
      "outputs": [
        {
          "output_type": "stream",
          "name": "stdout",
          "text": [
            "[4, 6, 8, 10]\n"
          ]
        }
      ]
    },
    {
      "cell_type": "code",
      "source": [
        "temp = arr[:]\n",
        "print(temp)"
      ],
      "metadata": {
        "colab": {
          "base_uri": "https://localhost:8080/"
        },
        "id": "gr0EX9WrYNS4",
        "outputId": "f26ea4b6-8a70-4442-c07c-a8a7a044899d"
      },
      "execution_count": null,
      "outputs": [
        {
          "output_type": "stream",
          "name": "stdout",
          "text": [
            "[2, 4, 6, 8, 10, 12, 14, 16, 18, 20, 22, 24, 26, 28]\n"
          ]
        }
      ]
    },
    {
      "cell_type": "code",
      "source": [
        "print(arr)"
      ],
      "metadata": {
        "colab": {
          "base_uri": "https://localhost:8080/"
        },
        "id": "jskaJFKpZVH8",
        "outputId": "5e8f5adb-7c88-4275-cbce-54100c1b3722"
      },
      "execution_count": null,
      "outputs": [
        {
          "output_type": "stream",
          "name": "stdout",
          "text": [
            "[2, 4, 6, 8, 10, 12, 14, 16, 18, 20, 22, 24, 26, 28]\n"
          ]
        }
      ]
    },
    {
      "cell_type": "code",
      "source": [
        "temp = arr[3:7] # 8 10 12 14\n",
        "temp = temp[1:3] # 10 12\n",
        "print(temp)"
      ],
      "metadata": {
        "colab": {
          "base_uri": "https://localhost:8080/"
        },
        "id": "iI-SQ1YTYoRS",
        "outputId": "23450df2-8fd0-4f9a-fac3-1b5d36742629"
      },
      "execution_count": null,
      "outputs": [
        {
          "output_type": "stream",
          "name": "stdout",
          "text": [
            "[10, 12]\n"
          ]
        }
      ]
    },
    {
      "cell_type": "code",
      "source": [
        "temp = arr[:4+1]\n",
        "print(temp)"
      ],
      "metadata": {
        "colab": {
          "base_uri": "https://localhost:8080/"
        },
        "id": "Q2pkEV6JYXcV",
        "outputId": "d94b7617-d91c-44b3-9904-380b8ebb15a1"
      },
      "execution_count": null,
      "outputs": [
        {
          "output_type": "stream",
          "name": "stdout",
          "text": [
            "[2, 4, 6, 8, 10]\n"
          ]
        }
      ]
    },
    {
      "cell_type": "code",
      "source": [
        "temp = arr[5:]\n",
        "print(temp)"
      ],
      "metadata": {
        "colab": {
          "base_uri": "https://localhost:8080/"
        },
        "id": "UJZNo8I9YdDA",
        "outputId": "1f1cb14a-7519-4121-93ff-7f1310498dca"
      },
      "execution_count": null,
      "outputs": [
        {
          "output_type": "stream",
          "name": "stdout",
          "text": [
            "[12, 14, 16, 18, 20, 22, 24, 26, 28]\n"
          ]
        }
      ]
    },
    {
      "cell_type": "code",
      "source": [
        "print(arr * 3)\n",
        "print(arr + arr)"
      ],
      "metadata": {
        "colab": {
          "base_uri": "https://localhost:8080/"
        },
        "id": "KNK5_CnOYltl",
        "outputId": "71c3f2c1-aef7-4843-bf4c-d58ed7f0fce8"
      },
      "execution_count": null,
      "outputs": [
        {
          "output_type": "stream",
          "name": "stdout",
          "text": [
            "[2, 4, 6, 8, 10, 12, 14, 16, 18, 20, 22, 24, 26, 28, 2, 4, 6, 8, 10, 12, 14, 16, 18, 20, 22, 24, 26, 28, 2, 4, 6, 8, 10, 12, 14, 16, 18, 20, 22, 24, 26, 28]\n",
            "[2, 4, 6, 8, 10, 12, 14, 16, 18, 20, 22, 24, 26, 28, 2, 4, 6, 8, 10, 12, 14, 16, 18, 20, 22, 24, 26, 28]\n"
          ]
        }
      ]
    },
    {
      "cell_type": "code",
      "source": [
        "a = []\n",
        "for i in range(0, 5):\n",
        "    x = int(input())\n",
        "    a.append(x)"
      ],
      "metadata": {
        "colab": {
          "base_uri": "https://localhost:8080/",
          "height": 228
        },
        "id": "1yEi3MVuUHCy",
        "outputId": "9a9b8d86-b20c-4a54-8be3-1f129341266f"
      },
      "execution_count": null,
      "outputs": [
        {
          "name": "stdout",
          "output_type": "stream",
          "text": [
            "3\n",
            "\n"
          ]
        },
        {
          "output_type": "error",
          "ename": "ValueError",
          "evalue": "invalid literal for int() with base 10: ''",
          "traceback": [
            "\u001b[0;31m---------------------------------------------------------------------------\u001b[0m",
            "\u001b[0;31mValueError\u001b[0m                                Traceback (most recent call last)",
            "\u001b[0;32m<ipython-input-2-a8c8dd6e5524>\u001b[0m in \u001b[0;36m<cell line: 2>\u001b[0;34m()\u001b[0m\n\u001b[1;32m      1\u001b[0m \u001b[0ma\u001b[0m \u001b[0;34m=\u001b[0m \u001b[0;34m[\u001b[0m\u001b[0;34m]\u001b[0m\u001b[0;34m\u001b[0m\u001b[0;34m\u001b[0m\u001b[0m\n\u001b[1;32m      2\u001b[0m \u001b[0;32mfor\u001b[0m \u001b[0mi\u001b[0m \u001b[0;32min\u001b[0m \u001b[0mrange\u001b[0m\u001b[0;34m(\u001b[0m\u001b[0;36m0\u001b[0m\u001b[0;34m,\u001b[0m \u001b[0;36m5\u001b[0m\u001b[0;34m)\u001b[0m\u001b[0;34m:\u001b[0m\u001b[0;34m\u001b[0m\u001b[0;34m\u001b[0m\u001b[0m\n\u001b[0;32m----> 3\u001b[0;31m     \u001b[0mx\u001b[0m \u001b[0;34m=\u001b[0m \u001b[0mint\u001b[0m\u001b[0;34m(\u001b[0m\u001b[0minput\u001b[0m\u001b[0;34m(\u001b[0m\u001b[0;34m)\u001b[0m\u001b[0;34m)\u001b[0m\u001b[0;34m\u001b[0m\u001b[0;34m\u001b[0m\u001b[0m\n\u001b[0m\u001b[1;32m      4\u001b[0m     \u001b[0ma\u001b[0m\u001b[0;34m.\u001b[0m\u001b[0mappend\u001b[0m\u001b[0;34m(\u001b[0m\u001b[0mx\u001b[0m\u001b[0;34m)\u001b[0m\u001b[0;34m\u001b[0m\u001b[0;34m\u001b[0m\u001b[0m\n",
            "\u001b[0;31mValueError\u001b[0m: invalid literal for int() with base 10: ''"
          ]
        }
      ]
    },
    {
      "cell_type": "markdown",
      "source": [
        "## copy a list"
      ],
      "metadata": {
        "id": "TuEbeXFLsCNr"
      }
    },
    {
      "cell_type": "code",
      "source": [
        "foo = [1, 2, 3]\n",
        "bar = foo\n",
        "bar.append(4)\n",
        "print(foo, bar, '\\n')\n",
        "\n"
      ],
      "metadata": {
        "colab": {
          "base_uri": "https://localhost:8080/"
        },
        "id": "YPqUt-XCsgss",
        "outputId": "55a7d124-3e93-4866-92e9-f6a5da56165a"
      },
      "execution_count": null,
      "outputs": [
        {
          "output_type": "stream",
          "name": "stdout",
          "text": [
            "[1, 2, 3, 4] [1, 2, 3, 4] \n",
            "\n"
          ]
        }
      ]
    },
    {
      "cell_type": "code",
      "source": [
        "foo = [1, 2, 3]\n",
        "bar = foo.copy()\n",
        "bar.append(5)\n",
        "print(foo, bar, '\\n')"
      ],
      "metadata": {
        "colab": {
          "base_uri": "https://localhost:8080/"
        },
        "id": "9ux5oBJWBlSC",
        "outputId": "6744ac99-22ed-4a71-94e5-52fd39cebde8"
      },
      "execution_count": null,
      "outputs": [
        {
          "output_type": "stream",
          "name": "stdout",
          "text": [
            "[1, 2, 3] [1, 2, 3, 5] \n",
            "\n"
          ]
        }
      ]
    },
    {
      "cell_type": "code",
      "source": [
        "foo = [1, 2, []]\n",
        "bar = foo\n",
        "bar[-1].append(4)\n",
        "print(foo, bar, '\\n')\n",
        "\n",
        "foo = [1, 2, []]\n",
        "bar = foo.copy()\n",
        "bar[-1].append(5)\n",
        "print(foo, bar, '\\n')\n",
        "\n"
      ],
      "metadata": {
        "colab": {
          "base_uri": "https://localhost:8080/"
        },
        "id": "rCqt_7SGsUhU",
        "outputId": "30601c5f-bba7-4f14-c279-429bb4557cf7"
      },
      "execution_count": null,
      "outputs": [
        {
          "output_type": "stream",
          "name": "stdout",
          "text": [
            "[1, 2, [4]] [1, 2, [4]] \n",
            "\n",
            "[1, 2, [5]] [1, 2, [5]] \n",
            "\n",
            "[1, 2, []] [1, 2, [5]] \n",
            "\n"
          ]
        }
      ]
    },
    {
      "cell_type": "code",
      "source": [
        "import copy\n",
        "foo = [1, 2, []]\n",
        "bar = copy.deepcopy(foo)\n",
        "bar[-1].append(5)\n",
        "print(foo, bar, '\\n')"
      ],
      "metadata": {
        "colab": {
          "base_uri": "https://localhost:8080/"
        },
        "id": "Y9ifgUrIwjmv",
        "outputId": "f8085434-7ad5-46f4-c866-551aff03e36c"
      },
      "execution_count": null,
      "outputs": [
        {
          "output_type": "stream",
          "name": "stdout",
          "text": [
            "[1, 2, []] [1, 2, [5]] \n",
            "\n"
          ]
        }
      ]
    },
    {
      "cell_type": "markdown",
      "source": [
        "# Practice problem 1"
      ],
      "metadata": {
        "id": "jwDHAdm1yEZ5"
      }
    },
    {
      "cell_type": "code",
      "source": [
        "## print all pair of numbers from a list\n",
        "\n",
        "l = [1, 2, 3, 4, 5]\n",
        "\n",
        "for i in range(len(l)):\n",
        "    for j in range(i+1, len(l)):\n",
        "        print(l[i], l[j])"
      ],
      "metadata": {
        "colab": {
          "base_uri": "https://localhost:8080/"
        },
        "id": "Ym5dl3WQyG2p",
        "outputId": "35b7c367-47bf-4458-8fd3-3e853afe94a9"
      },
      "execution_count": null,
      "outputs": [
        {
          "output_type": "stream",
          "name": "stdout",
          "text": [
            "1 2\n",
            "1 3\n",
            "1 4\n",
            "1 5\n",
            "2 3\n",
            "2 4\n",
            "2 5\n",
            "3 4\n",
            "3 5\n",
            "4 5\n"
          ]
        }
      ]
    },
    {
      "cell_type": "markdown",
      "source": [
        "# Dictionary"
      ],
      "metadata": {
        "id": "EKhJaws_syJh"
      }
    },
    {
      "cell_type": "code",
      "source": [
        "dictionary = {\n",
        "    \"name\" : \"osama\",\n",
        "    \"email\" : \"osama@cse.uiu.ac.bd\",\n",
        "    \"joined\" : 2024,\n",
        "    \"id\" :    12\n",
        "}\n",
        "dictionary"
      ],
      "metadata": {
        "id": "rOGzCnEkouFw",
        "colab": {
          "base_uri": "https://localhost:8080/"
        },
        "outputId": "e5cd18d6-4f50-40e1-9266-7afa3b79dba6"
      },
      "execution_count": null,
      "outputs": [
        {
          "output_type": "execute_result",
          "data": {
            "text/plain": [
              "{'name': 'osama', 'email': 'osama@cse.uiu.ac.bd', 'joined': 2024, 'id': 12}"
            ]
          },
          "metadata": {},
          "execution_count": 7
        }
      ]
    },
    {
      "cell_type": "code",
      "source": [
        "dictionary['email']"
      ],
      "metadata": {
        "colab": {
          "base_uri": "https://localhost:8080/",
          "height": 35
        },
        "id": "22suJWlHFi7z",
        "outputId": "9b718549-05a5-4d3e-9565-820321a55b44"
      },
      "execution_count": null,
      "outputs": [
        {
          "output_type": "execute_result",
          "data": {
            "text/plain": [
              "'osama@cse.uiu.ac.bd'"
            ],
            "application/vnd.google.colaboratory.intrinsic+json": {
              "type": "string"
            }
          },
          "metadata": {},
          "execution_count": 14
        }
      ]
    },
    {
      "cell_type": "code",
      "source": [
        "d = {\n",
        "    \"name\" : \"fariha\",\n",
        "    \"email\" : 'fariha@cse.uiu.ac.bd',\n",
        "    \"position\" : \"lecturer\",\n",
        "    \"joined\" : 2019,\n",
        "    2 : \"???\",\n",
        "    3 : 234,\n",
        "    3 : 12345,\n",
        "    1 : \"what\",\n",
        "    list : [1,3, \"blue\"]\n",
        "}"
      ],
      "metadata": {
        "id": "3wYhQIM7q97M"
      },
      "execution_count": null,
      "outputs": []
    },
    {
      "cell_type": "code",
      "source": [
        "d[1]"
      ],
      "metadata": {
        "colab": {
          "base_uri": "https://localhost:8080/",
          "height": 35
        },
        "id": "j-O-Flp1qJKi",
        "outputId": "4e2b72af-ca93-4d07-c08d-98b675655c83"
      },
      "execution_count": null,
      "outputs": [
        {
          "output_type": "execute_result",
          "data": {
            "text/plain": [
              "'what'"
            ],
            "application/vnd.google.colaboratory.intrinsic+json": {
              "type": "string"
            }
          },
          "metadata": {},
          "execution_count": 38
        }
      ]
    },
    {
      "cell_type": "code",
      "source": [
        "# print(d)\n",
        "#print(d.keys())\n",
        "print(d.values())"
      ],
      "metadata": {
        "colab": {
          "base_uri": "https://localhost:8080/"
        },
        "id": "ecqW8AIFU9BI",
        "outputId": "77bb15ad-8453-49a0-9584-92efd2a93342"
      },
      "execution_count": null,
      "outputs": [
        {
          "output_type": "stream",
          "name": "stdout",
          "text": [
            "dict_values(['fariha', 'fariha@cse.uiu.ac.bd', 'fariha', 2019, '???', 12345, 'what', [1, 3, 'blue']])\n"
          ]
        }
      ]
    },
    {
      "cell_type": "markdown",
      "source": [
        "## get"
      ],
      "metadata": {
        "id": "Qi2dpM05rRfC"
      }
    },
    {
      "cell_type": "code",
      "source": [
        "print(d.get('joined'))\n",
        "print(d['joined'])\n",
        "print(\"fariha\" in d)"
      ],
      "metadata": {
        "colab": {
          "base_uri": "https://localhost:8080/"
        },
        "id": "OUSUA6NvVArR",
        "outputId": "26306806-d21b-4fe0-c41c-ed8ca34ad548"
      },
      "execution_count": null,
      "outputs": [
        {
          "output_type": "stream",
          "name": "stdout",
          "text": [
            "2019\n",
            "2019\n",
            "False\n"
          ]
        }
      ]
    },
    {
      "cell_type": "markdown",
      "source": [
        "## iterate"
      ],
      "metadata": {
        "id": "2LUgZ9WsrVzp"
      }
    },
    {
      "cell_type": "code",
      "source": [
        "for i in d:\n",
        "    print(i, \" --- \", d[i])"
      ],
      "metadata": {
        "colab": {
          "base_uri": "https://localhost:8080/"
        },
        "id": "1ozxpn3lVHh2",
        "outputId": "bbb2a9bc-a7ec-43e2-de51-ef4b5b62f8e5"
      },
      "execution_count": null,
      "outputs": [
        {
          "output_type": "stream",
          "name": "stdout",
          "text": [
            "name  ---  fariha\n",
            "email  ---  fariha@cse.uiu.ac.bd\n",
            "position  ---  lecturer\n",
            "joined  ---  2019\n",
            "2  ---  ???\n",
            "3  ---  12345\n",
            "1  ---  what\n",
            "<class 'list'>  ---  [1, 3, 'blue']\n"
          ]
        }
      ]
    },
    {
      "cell_type": "markdown",
      "source": [
        "## change value, delete key-value pair"
      ],
      "metadata": {
        "id": "FH9v9sNkrCo9"
      }
    },
    {
      "cell_type": "code",
      "source": [
        "\n",
        "\n",
        "d['name'] = 'AHMOH'\n",
        "d['joined'] = '2020'\n",
        "print(d)"
      ],
      "metadata": {
        "colab": {
          "base_uri": "https://localhost:8080/"
        },
        "id": "Yp9iLIu_taBL",
        "outputId": "f9c83e7b-bc73-4ac9-cb77-b257bad2fd15"
      },
      "execution_count": null,
      "outputs": [
        {
          "output_type": "stream",
          "name": "stdout",
          "text": [
            "{'name': 'AHMOH', 'email': 'fariha@cse.uiu.ac.bd', 'joined': '2020', 2: '???', 3: 12345, 1: 'what', <class 'list'>: [1, 3, 'blue']}\n"
          ]
        }
      ]
    },
    {
      "cell_type": "code",
      "source": [
        "for x in d:\n",
        "    print(x, ':', d[x])\n"
      ],
      "metadata": {
        "colab": {
          "base_uri": "https://localhost:8080/"
        },
        "id": "dQC7H5opttHJ",
        "outputId": "bffbfa30-23b6-40e4-cf45-83e78c6b0921"
      },
      "execution_count": null,
      "outputs": [
        {
          "output_type": "stream",
          "name": "stdout",
          "text": [
            "name : FTI\n",
            "email : fariha@cse.uiu.ac.bd\n",
            "joined : 2019\n",
            "3 : ???\n",
            "info : [1, 3, '?']\n"
          ]
        }
      ]
    },
    {
      "cell_type": "markdown",
      "source": [
        "# Practice problem 2"
      ],
      "metadata": {
        "id": "AfVgpq0TrwR6"
      }
    },
    {
      "cell_type": "code",
      "source": [
        "sentence = \"I study in UIU\"\n",
        "sentence.count(\"I\")"
      ],
      "metadata": {
        "colab": {
          "base_uri": "https://localhost:8080/"
        },
        "id": "uIiukYQtJfON",
        "outputId": "25bc7fa7-942d-454e-9886-2a9d408b25c3"
      },
      "execution_count": null,
      "outputs": [
        {
          "output_type": "execute_result",
          "data": {
            "text/plain": [
              "2"
            ]
          },
          "metadata": {},
          "execution_count": 42
        }
      ]
    },
    {
      "cell_type": "code",
      "source": [
        "## write a code that counts the frequency of each letter in a sentence\n",
        "\n",
        "sentence = \"I study in UIU\"\n",
        "\n",
        "freq = {}\n",
        "print(type(freq))\n",
        "\n",
        "for i in range(len(sentence)):\n",
        "    # print(sentence[i])\n",
        "    char = sentence[i]\n",
        "    if char not in freq:\n",
        "        freq[char] = 0\n",
        "    freq[char] = freq[char]+1\n",
        "\n",
        "for char in freq:\n",
        "    print(f\"{char}: {freq[char]}\")\n",
        "\n",
        "print(freq)"
      ],
      "metadata": {
        "colab": {
          "base_uri": "https://localhost:8080/"
        },
        "id": "8Un2YXODrzYC",
        "outputId": "51677b79-98fb-4f8c-be0e-1f1e25c0367b"
      },
      "execution_count": null,
      "outputs": [
        {
          "output_type": "stream",
          "name": "stdout",
          "text": [
            "<class 'dict'>\n",
            "I: 2\n",
            " : 3\n",
            "s: 1\n",
            "t: 1\n",
            "u: 1\n",
            "d: 1\n",
            "y: 1\n",
            "i: 1\n",
            "n: 1\n",
            "U: 2\n",
            "{'I': 2, ' ': 3, 's': 1, 't': 1, 'u': 1, 'd': 1, 'y': 1, 'i': 1, 'n': 1, 'U': 2}\n"
          ]
        }
      ]
    },
    {
      "cell_type": "markdown",
      "source": [
        "# Function"
      ],
      "metadata": {
        "id": "3sF8DgGyufYQ"
      }
    },
    {
      "cell_type": "code",
      "source": [
        "# int sum(int a, int b){\n",
        "#     return a + b;\n",
        "# }\n",
        "\n",
        "def sum(a, b):\n",
        "    return a, b, a + b\n",
        "\n",
        "p, q, r = sum(\"s\",\"e\")\n",
        "print(p, q, r)"
      ],
      "metadata": {
        "colab": {
          "base_uri": "https://localhost:8080/"
        },
        "id": "jraQfM1qVxOw",
        "outputId": "1a267f46-6fed-4399-e464-b264d5b7018d"
      },
      "execution_count": null,
      "outputs": [
        {
          "output_type": "execute_result",
          "data": {
            "text/plain": [
              "('s', 'e', 'se')"
            ]
          },
          "metadata": {},
          "execution_count": 48
        }
      ]
    },
    {
      "cell_type": "code",
      "source": [
        "def hello(name):\n",
        "    name = name.capitalize()\n",
        "    print('Hello',name)\n",
        "\n",
        "hello('fariha')\n",
        "\n",
        "# hello(1) # error"
      ],
      "metadata": {
        "colab": {
          "base_uri": "https://localhost:8080/"
        },
        "id": "4X-ePM1RuSUh",
        "outputId": "b1eb629d-0b7d-4f53-a6ac-5a6a4ac6b6b7"
      },
      "execution_count": null,
      "outputs": [
        {
          "output_type": "stream",
          "name": "stdout",
          "text": [
            "Hello Fariha\n"
          ]
        }
      ]
    },
    {
      "cell_type": "code",
      "source": [
        "def test(arr):\n",
        "  return (arr + arr)\n",
        "\n",
        "print(test([1,2,4,6,7]))\n",
        "print(test(100))\n",
        "print(test(\"good\"))"
      ],
      "metadata": {
        "colab": {
          "base_uri": "https://localhost:8080/"
        },
        "id": "1fbZp6XAvNcv",
        "outputId": "7d90ee2c-7911-4ef0-8c4b-da1be51af1f7"
      },
      "execution_count": null,
      "outputs": [
        {
          "output_type": "stream",
          "name": "stdout",
          "text": [
            "[1, 2, 4, 6, 7, 1, 2, 4, 6, 7]\n",
            "200\n",
            "goodgood\n"
          ]
        }
      ]
    },
    {
      "cell_type": "code",
      "source": [
        "def minmax(arr):\n",
        "  return min(arr), max(arr)\n",
        "\n",
        "listt = [1, 0, 9, 8, -1]\n",
        "min_, max_ = minmax(listt)\n",
        "print(f'min: {min_}, max: {max_}')\n",
        "\n",
        "a = minmax(listt)\n",
        "print(a[0], a[1])"
      ],
      "metadata": {
        "colab": {
          "base_uri": "https://localhost:8080/"
        },
        "id": "3nnMmZRhuyEA",
        "outputId": "09976175-a84e-47e0-ea26-198aced03d01"
      },
      "execution_count": null,
      "outputs": [
        {
          "output_type": "stream",
          "name": "stdout",
          "text": [
            "min: -1, max: 9\n",
            "-1 9\n"
          ]
        }
      ]
    },
    {
      "cell_type": "code",
      "source": [
        "def canvote(age=0):\n",
        "    if age >= 18:\n",
        "        print(\"can vote at the age\", age)\n",
        "        return True\n",
        "    else:\n",
        "        print(\"can't vote at the age\", age)\n",
        "        return False\n",
        "\n",
        "print(canvote(132), '\\n')\n",
        "print(canvote(age=31), '\\n')\n",
        "print(canvote(), '\\n')"
      ],
      "metadata": {
        "colab": {
          "base_uri": "https://localhost:8080/"
        },
        "id": "5vrTCvQ8uZ1A",
        "outputId": "9ec76a6d-f720-4461-c3bb-8b19634fa747"
      },
      "execution_count": null,
      "outputs": [
        {
          "output_type": "stream",
          "name": "stdout",
          "text": [
            "can vote at the age 132\n",
            "True \n",
            "\n",
            "can vote at the age 31\n",
            "True \n",
            "\n",
            "can't vote at the age 0\n",
            "False \n",
            "\n"
          ]
        }
      ]
    },
    {
      "cell_type": "code",
      "source": [
        "def canvote(is_citizen, age=0):\n",
        "    if not is_citizen:\n",
        "        print(\"can't vote\", age)\n",
        "        return False\n",
        "    if age >= 18:\n",
        "        print(\"can vote at the age\", age)\n",
        "        return True\n",
        "    else:\n",
        "        print(\"can't vote at the age\", age)\n",
        "        return False\n",
        "\n",
        "print(canvote(True, 132), '\\n')\n",
        "print(canvote(False, age=31), '\\n')\n",
        "print(canvote(), '\\n') # error: missing 1 argument\n",
        "# print(canvote(is_citizen=False, 31), '\\n') # error: positional argument follows keyword argument"
      ],
      "metadata": {
        "colab": {
          "base_uri": "https://localhost:8080/"
        },
        "id": "G39fvdR0vG7A",
        "outputId": "98296ba8-9251-4e31-92c2-914db7e2ac6e"
      },
      "execution_count": null,
      "outputs": [
        {
          "output_type": "stream",
          "name": "stdout",
          "text": [
            "can vote at the age 132\n",
            "True \n",
            "\n",
            "can't vote 31\n",
            "False \n",
            "\n",
            "can't vote at the age 0\n",
            "False \n",
            "\n"
          ]
        }
      ]
    },
    {
      "cell_type": "markdown",
      "source": [
        "# Practice problem 3"
      ],
      "metadata": {
        "id": "rn0uYDOazM4J"
      }
    },
    {
      "cell_type": "code",
      "source": [
        "# calculate the distance between two points\n",
        "import math\n",
        "\n",
        "def distance(x1, y1, x2, y2):\n",
        "    return math.sqrt((x1-x2)**2+(y1-y2)**2)\n",
        "\n",
        "distance(1, 1, 4, 5)"
      ],
      "metadata": {
        "colab": {
          "base_uri": "https://localhost:8080/"
        },
        "id": "OLXwvkE1zP0G",
        "outputId": "b25305a8-82bf-44ca-86cc-93590a0dcca8"
      },
      "execution_count": null,
      "outputs": [
        {
          "output_type": "execute_result",
          "data": {
            "text/plain": [
              "5.0"
            ]
          },
          "metadata": {},
          "execution_count": 51
        }
      ]
    },
    {
      "cell_type": "markdown",
      "source": [
        "# Class in python"
      ],
      "metadata": {
        "id": "nSi7SSaU4NKX"
      }
    },
    {
      "cell_type": "code",
      "source": [
        "print('Hello')\n",
        "\n",
        "class Employee:\n",
        "  emp_num = 0 # works like static variable common to all objects of a class\n",
        "\n",
        "  def __init__(self, first, last, pay): # constructor\n",
        "    self.first = first # member variable\n",
        "    self.last = last # member variable\n",
        "    self.email = first + '.' + last + '@email.com' # member variable\n",
        "    self.pay = pay # member variable\n",
        "    apple = 1 # not member variable\n",
        "    Employee.emp_num += 1 # static variable\n",
        "\n",
        "  def fullname(self): # self is comparable to this keyword of Java\n",
        "    return f'{self.first} {self.last}'# \"%s %s\", self.first, self.last\n",
        "\n",
        "  def applyRaise(self, raise_):\n",
        "    self.pay = int(self.pay * raise_)\n",
        "\n",
        "  def __str__(self): # toString()\n",
        "    return f'{self.fullname()} - {self.email}: {self.pay}'\n",
        "\n",
        "  @staticmethod # (Decorator) same working procedure for all objects of a class\n",
        "  def is_holiday(day):\n",
        "    holidays = [1, 30, 49, 350]\n",
        "    if day in holidays:\n",
        "        return True\n",
        "    else:\n",
        "      return False\n",
        "\n"
      ],
      "metadata": {
        "id": "K4M7yPIY0P5B",
        "colab": {
          "base_uri": "https://localhost:8080/"
        },
        "outputId": "1df74a77-4f95-4373-fa1c-279121baab8a"
      },
      "execution_count": null,
      "outputs": [
        {
          "output_type": "stream",
          "name": "stdout",
          "text": [
            "Hello\n"
          ]
        }
      ]
    },
    {
      "cell_type": "code",
      "source": [
        "\n",
        "print(Employee.emp_num) # 0\n",
        "\n",
        "emp_1 = Employee('Corey', 'Schafer', 50000)\n",
        "emp_2 = Employee('Test', 'Employee', 60000)\n",
        "\n",
        "\n",
        "print(Employee.emp_num) # 2\n",
        "\n",
        "emp_2 = Employee('Test', 'Employee33', 60000)\n",
        "\n",
        "print(Employee.emp_num) # 3\n",
        "\n",
        "\n",
        "print(emp_1.fullname()) # Corey Schafer\n",
        "\n",
        "emp_1.applyRaise(1.5)\n",
        "print(emp_1.pay) # 75000\n",
        "\n",
        "print(Employee.is_holiday(30)) # True\n",
        "print(Employee.is_holiday(31)) # False\n",
        "\n",
        "print(emp_1) # Corey Schafer corey.schafer@gmail.com 75000"
      ],
      "metadata": {
        "colab": {
          "base_uri": "https://localhost:8080/"
        },
        "id": "vXfoDstiw_uY",
        "outputId": "a9e593c8-58e0-4954-beed-0ae982b7e103"
      },
      "execution_count": null,
      "outputs": [
        {
          "output_type": "stream",
          "name": "stdout",
          "text": [
            "0\n",
            "2\n",
            "3\n"
          ]
        }
      ]
    },
    {
      "cell_type": "code",
      "source": [
        "class Employee:\n",
        "  emp_num = 0\n",
        "  def __init__(self, first, last, pay):\n",
        "    self.first = first\n",
        "    self.last = last\n",
        "    self.email = first + '.' + last + '@email.com'\n",
        "    self.pay = pay\n",
        "    Employee.emp_num += 1\n",
        "\n",
        "  def fullname(self):\n",
        "    return f'{self.first} {self.last}'\n",
        "\n",
        "  def applyRaise(self,raise_):\n",
        "    self.pay = int(self.pay * raise_)\n",
        "\n",
        "\n",
        "class Developer(Employee):\n",
        "    def __init__(self, first, last, pay, prog_lang):\n",
        "        super().__init__(first, last, pay) # call parent class constructor\n",
        "        self.prog_lang = prog_lang\n",
        "\n",
        "\n",
        "class Manager(Employee):\n",
        "  def __init__(self, first, last, pay, employees=None):\n",
        "      super().__init__(first, last, pay)\n",
        "      if employees is None:\n",
        "          self.employees = []\n",
        "      else:\n",
        "          self.employees = employees\n",
        "\n",
        "  def add_emp(self, emp):\n",
        "      if emp not in self.employees:\n",
        "          self.employees.append(emp)\n",
        "\n",
        "  def remove_emp(self, emp):\n",
        "      if emp in self.employees:\n",
        "          self.employees.remove(emp)\n",
        "\n",
        "  def print_emps(self):\n",
        "      for emp in self.employees:\n",
        "          print('-->', emp.fullname())\n",
        "\n",
        "dev_1 = Developer('Corey', 'Schafer', 50000, 'Python')\n",
        "dev_2 = Developer('Test', 'Employee', 60000, 'Java')\n",
        "\n",
        "mgr_1 = Manager('Sue', 'Smith', 90000, [dev_1])\n",
        "print(mgr_1.email)\n",
        "\n",
        "mgr_1.add_emp(dev_2)\n",
        "mgr_1.print_emps()\n",
        "print()\n",
        "\n",
        "mgr_1.remove_emp(dev_2)\n",
        "mgr_1.print_emps()\n",
        "print()\n",
        "\n",
        "print(isinstance(mgr_1, Manager))  # Is mgr_1 an instance of Manager?\n",
        "print(isinstance(mgr_1, Employee))\n",
        "print(isinstance(mgr_1, Developer))\n",
        "print()\n",
        "\n",
        "print(issubclass(Developer, Employee)) # Is Developer class a subclass of Employee class??"
      ],
      "metadata": {
        "colab": {
          "base_uri": "https://localhost:8080/"
        },
        "id": "h0J0N9Ta53HC",
        "outputId": "e20bae34-a293-4e87-ed96-6a6f83761c4d"
      },
      "execution_count": null,
      "outputs": [
        {
          "output_type": "stream",
          "name": "stdout",
          "text": [
            "Sue.Smith@email.com\n",
            "--> Corey Schafer\n",
            "--> Test Employee\n",
            "\n",
            "--> Corey Schafer\n",
            "\n",
            "True\n",
            "True\n",
            "False\n",
            "\n",
            "True\n"
          ]
        }
      ]
    },
    {
      "cell_type": "code",
      "source": [
        "print('hi')\n",
        "def main():\n",
        "    print('hello world')\n",
        "\n",
        "if __name__=='__main__':\n",
        "    main()"
      ],
      "metadata": {
        "colab": {
          "base_uri": "https://localhost:8080/"
        },
        "id": "afpXYfwcjmts",
        "outputId": "3f6873ec-ca8e-41ea-fa37-8ca3b1f34d34"
      },
      "execution_count": null,
      "outputs": [
        {
          "output_type": "stream",
          "name": "stdout",
          "text": [
            "hi\n",
            "hello world\n"
          ]
        }
      ]
    },
    {
      "cell_type": "markdown",
      "source": [
        "## Does Python support function overloading?\n",
        "Python does not support function overloading. When we define multiple functions with the same name, the later one always overrides the prior and thus, in the namespace, there will always be a single entry against each function name\n",
        "\n",
        "* https://www.geeksforgeeks.org/python-method-overloading/\n"
      ],
      "metadata": {
        "id": "o-zRimAn7daI"
      }
    },
    {
      "cell_type": "markdown",
      "source": [
        "# Practice problem 4"
      ],
      "metadata": {
        "id": "2YVPb5-ozvsm"
      }
    },
    {
      "cell_type": "code",
      "source": [
        "# write a class Point to store the x,y coords of 2D points.\n",
        "# The class should have the methods move_left, move_right, move_up, move down.\n",
        "# move_left moves the point 1 cell to the left, move_right moves the point 1 cell to the right\n",
        "# move_up moves the point 1 cell up, and move_down moves the point 1 cell down\n",
        "# write a distance function to calculate the manhattan distance between two points\n",
        "\n",
        "class Point:\n",
        "\n",
        "    def __init__(self, x, y):\n",
        "        self.x = x\n",
        "        self.y = y\n",
        "\n",
        "    def move_left(self):\n",
        "        self.x += 1\n",
        "\n",
        "    def move_right(self):\n",
        "        self.x -= 1\n",
        "\n",
        "    def move_up(self):\n",
        "        self.y += 1\n",
        "\n",
        "    def move_down(self):\n",
        "        self.y -= 1\n",
        "\n",
        "    def distance(self, p):\n",
        "        return Point.euclid_dist(self, p)\n",
        "\n",
        "    @staticmethod\n",
        "    def euclid_dist(p1, p2):\n",
        "        return ((p1.x-p2.x)**2+(p1.y-p2.y)**2) ** 0.5\n",
        "\n",
        "p1 = Point(2, 4)\n",
        "p2 = Point(0, 0)\n",
        "print('distance %.2f'%Point.euclid_dist(p1,p2))\n",
        "\n",
        "p2.move_down()\n",
        "print('distance %.2f'%Point.euclid_dist(p1,p2))"
      ],
      "metadata": {
        "id": "IOufKIkGzyre"
      },
      "execution_count": null,
      "outputs": []
    },
    {
      "cell_type": "markdown",
      "source": [
        "# Numpy array\n",
        "\n",
        "\n",
        "* stores and manipulates n-dimensional arrays\n",
        "* stores values of same type\n",
        "\n"
      ],
      "metadata": {
        "id": "fVQ8zXzUvPCx"
      }
    },
    {
      "cell_type": "code",
      "source": [
        "# numpy tutorial - http://cs231n.github.io/python-numpy-tutorial/#numpy-arrays\n",
        "# numpy uses the facility of GPU. So, try to use it instead of for loop\n",
        "import numpy as np"
      ],
      "metadata": {
        "id": "K9oobL-pvFN6"
      },
      "execution_count": null,
      "outputs": []
    },
    {
      "cell_type": "code",
      "source": [
        "import numpy as np"
      ],
      "metadata": {
        "id": "e88cLNtLXnUP"
      },
      "execution_count": null,
      "outputs": []
    },
    {
      "cell_type": "code",
      "source": [
        "a = [3, 6, 7]\n",
        "print(type(a))"
      ],
      "metadata": {
        "colab": {
          "base_uri": "https://localhost:8080/"
        },
        "id": "coqQFLU8XvKv",
        "outputId": "26c44d04-68b5-418a-8cff-5fc83891e71a"
      },
      "execution_count": null,
      "outputs": [
        {
          "output_type": "stream",
          "name": "stdout",
          "text": [
            "<class 'list'>\n"
          ]
        }
      ]
    },
    {
      "cell_type": "code",
      "source": [
        "import numpy as np\n",
        "arr = np.array(a)\n",
        "print(type(arr))\n",
        "\n",
        "print(arr.shape)\n",
        "print(arr)"
      ],
      "metadata": {
        "colab": {
          "base_uri": "https://localhost:8080/"
        },
        "id": "CJpBa0BbbYb6",
        "outputId": "a5a42f1f-fc90-4353-f37d-0b6ff3894551"
      },
      "execution_count": null,
      "outputs": [
        {
          "output_type": "stream",
          "name": "stdout",
          "text": [
            "<class 'numpy.ndarray'>\n",
            "(3,)\n",
            "[3 6 7]\n"
          ]
        }
      ]
    },
    {
      "cell_type": "code",
      "source": [
        "a = [\n",
        "     [1, 4],\n",
        "     [3, 5]\n",
        "]\n",
        "a = np.array(a)\n",
        "print(a)\n",
        "print(a.shape)\n",
        "\n",
        "print(a[1, 1])"
      ],
      "metadata": {
        "colab": {
          "base_uri": "https://localhost:8080/"
        },
        "id": "N1Gt7wylYSxL",
        "outputId": "bcee8e57-2f3b-4d3a-e992-4d2dfbdd18d9"
      },
      "execution_count": null,
      "outputs": [
        {
          "output_type": "stream",
          "name": "stdout",
          "text": [
            "[[1 4]\n",
            " [3 5]]\n",
            "(2, 2)\n",
            "5\n"
          ]
        }
      ]
    },
    {
      "cell_type": "code",
      "source": [
        "a = np.array([3, 5, 4])\n",
        "print(type(a))\n",
        "print(a.shape)\n",
        "print(a[0])\n",
        "print(a[10]) # index out of bound"
      ],
      "metadata": {
        "colab": {
          "base_uri": "https://localhost:8080/",
          "height": 228
        },
        "id": "rphZ3RDTZOeH",
        "outputId": "9b089608-f59d-4c93-dc76-40a75711c4dd"
      },
      "execution_count": null,
      "outputs": [
        {
          "output_type": "stream",
          "name": "stdout",
          "text": [
            "<class 'numpy.ndarray'>\n",
            "(3,)\n",
            "3\n"
          ]
        },
        {
          "output_type": "error",
          "ename": "IndexError",
          "evalue": "index 10 is out of bounds for axis 0 with size 3",
          "traceback": [
            "\u001b[0;31m---------------------------------------------------------------------------\u001b[0m",
            "\u001b[0;31mIndexError\u001b[0m                                Traceback (most recent call last)",
            "\u001b[0;32m<ipython-input-4-faf308b02608>\u001b[0m in \u001b[0;36m<cell line: 5>\u001b[0;34m()\u001b[0m\n\u001b[1;32m      3\u001b[0m \u001b[0mprint\u001b[0m\u001b[0;34m(\u001b[0m\u001b[0ma\u001b[0m\u001b[0;34m.\u001b[0m\u001b[0mshape\u001b[0m\u001b[0;34m)\u001b[0m\u001b[0;34m\u001b[0m\u001b[0;34m\u001b[0m\u001b[0m\n\u001b[1;32m      4\u001b[0m \u001b[0mprint\u001b[0m\u001b[0;34m(\u001b[0m\u001b[0ma\u001b[0m\u001b[0;34m[\u001b[0m\u001b[0;36m0\u001b[0m\u001b[0;34m]\u001b[0m\u001b[0;34m)\u001b[0m\u001b[0;34m\u001b[0m\u001b[0;34m\u001b[0m\u001b[0m\n\u001b[0;32m----> 5\u001b[0;31m \u001b[0mprint\u001b[0m\u001b[0;34m(\u001b[0m\u001b[0ma\u001b[0m\u001b[0;34m[\u001b[0m\u001b[0;36m10\u001b[0m\u001b[0;34m]\u001b[0m\u001b[0;34m)\u001b[0m \u001b[0;31m# index out of bound\u001b[0m\u001b[0;34m\u001b[0m\u001b[0;34m\u001b[0m\u001b[0m\n\u001b[0m",
            "\u001b[0;31mIndexError\u001b[0m: index 10 is out of bounds for axis 0 with size 3"
          ]
        }
      ]
    },
    {
      "cell_type": "code",
      "source": [
        "b = np.array([\n",
        "              [1,2,3,2],\n",
        "              [4,5,6,2],\n",
        "              [4,5,6,2],\n",
        "              [4,5,6,2]\n",
        "              ])\n",
        "print(b.shape)\n",
        "print(b[0][0], b[0, 1], b[1, 0])"
      ],
      "metadata": {
        "colab": {
          "base_uri": "https://localhost:8080/"
        },
        "id": "Y86pt-R9veUS",
        "outputId": "5c3221b4-e590-4761-fdec-3fe3993eee17"
      },
      "execution_count": null,
      "outputs": [
        {
          "output_type": "stream",
          "name": "stdout",
          "text": [
            "(4, 4)\n",
            "1 2 4\n"
          ]
        }
      ]
    },
    {
      "cell_type": "code",
      "source": [
        "a = np.random.random((4, 5))\n",
        "print(a)"
      ],
      "metadata": {
        "colab": {
          "base_uri": "https://localhost:8080/"
        },
        "id": "W4kZ95JeeTQR",
        "outputId": "50790e5c-9d08-49b4-82f1-a1245bfb89ea"
      },
      "execution_count": null,
      "outputs": [
        {
          "output_type": "stream",
          "name": "stdout",
          "text": [
            "[[0.87561558 0.73032722 0.04455941 0.89740726 0.18392064]\n",
            " [0.18875765 0.13666602 0.28434972 0.49196049 0.72760853]\n",
            " [0.1908797  0.81032719 0.27066801 0.19494948 0.77319156]\n",
            " [0.03077838 0.3030709  0.15355427 0.5957463  0.67697741]]\n"
          ]
        }
      ]
    },
    {
      "cell_type": "code",
      "source": [
        "a = np.random.randint(0, 50, (4, 5))\n",
        "# a = np.random.randint(low=0, high=10, size=(4, 5))\n",
        "print(a)"
      ],
      "metadata": {
        "colab": {
          "base_uri": "https://localhost:8080/"
        },
        "id": "q1Fn0DVjejm5",
        "outputId": "18b7dcd8-33ea-4d70-a43a-b8484569c052"
      },
      "execution_count": null,
      "outputs": [
        {
          "output_type": "stream",
          "name": "stdout",
          "text": [
            "[[33 14 30 44 30]\n",
            " [ 8 11 25 44 23]\n",
            " [31 34  3 36 35]\n",
            " [39 13 24 27 12]]\n"
          ]
        }
      ]
    },
    {
      "cell_type": "code",
      "source": [
        "\n",
        "\n",
        "\n",
        "# a = [\n",
        "#      []\n",
        "#      []\n",
        "#      []\n",
        "# ]"
      ],
      "metadata": {
        "colab": {
          "base_uri": "https://localhost:8080/"
        },
        "id": "DMMz_njLcmS7",
        "outputId": "7f8489bf-3b31-49f6-d9fe-94d6da841aab"
      },
      "execution_count": null,
      "outputs": [
        {
          "output_type": "stream",
          "name": "stdout",
          "text": [
            "[[0.50597185 0.94665005 0.98586306 0.33746679 0.57426323]\n",
            " [0.19681552 0.29322136 0.35045848 0.85969457 0.83510474]\n",
            " [0.77487996 0.55923138 0.88718403 0.95526991 0.56995419]\n",
            " [0.94726004 0.18339908 0.67272299 0.72647069 0.26239131]]\n",
            "[[73 39 84 49 58]\n",
            " [30 93 61 70 94]\n",
            " [77  3 95 48 74]\n",
            " [56  8 68  3 14]]\n"
          ]
        }
      ]
    },
    {
      "cell_type": "code",
      "source": [
        "a = np.zeros((2,2))   # Create an array of all zeros\n",
        "print(a)              # Prints \"[[ 0.  0.]\n",
        "                      #          [ 0.  0.]]\"\n",
        "\n",
        "b = np.ones((2,2))    # Create an array of all ones\n",
        "print(b)              # Prints \"[[ 1.  1.]]\"\n",
        "\n",
        "c = np.full((2,2), 5)  # Create a constant array\n",
        "print(c)               # Prints \"[[ 7.  7.]\n",
        "                       #          [ 7.  7.]]\""
      ],
      "metadata": {
        "colab": {
          "base_uri": "https://localhost:8080/"
        },
        "id": "1WcbJH36e_vp",
        "outputId": "c65e5a3a-c5b8-405b-90c9-db129a38e4ac"
      },
      "execution_count": null,
      "outputs": [
        {
          "output_type": "stream",
          "name": "stdout",
          "text": [
            "[[0. 0.]\n",
            " [0. 0.]]\n",
            "[[1. 1.]\n",
            " [1. 1.]]\n",
            "[[5 5]\n",
            " [5 5]]\n"
          ]
        }
      ]
    },
    {
      "cell_type": "code",
      "source": [
        "import numpy as np\n"
      ],
      "metadata": {
        "id": "Atj5eTTPfgJq"
      },
      "execution_count": null,
      "outputs": []
    },
    {
      "cell_type": "code",
      "source": [
        "d = np.eye(3)\n",
        "d"
      ],
      "metadata": {
        "colab": {
          "base_uri": "https://localhost:8080/"
        },
        "id": "bBIkST-j6okP",
        "outputId": "6816962b-7bc5-402b-a413-83a2d7143e9f"
      },
      "execution_count": null,
      "outputs": [
        {
          "output_type": "execute_result",
          "data": {
            "text/plain": [
              "array([[1., 0., 0.],\n",
              "       [0., 1., 0.],\n",
              "       [0., 0., 1.]])"
            ]
          },
          "metadata": {},
          "execution_count": 11
        }
      ]
    },
    {
      "cell_type": "code",
      "source": [
        "\n",
        "(d+3)*100"
      ],
      "metadata": {
        "colab": {
          "base_uri": "https://localhost:8080/"
        },
        "id": "YcV7amtnfi85",
        "outputId": "9e830097-25a7-4098-d8e1-04383afa767a"
      },
      "execution_count": null,
      "outputs": [
        {
          "output_type": "execute_result",
          "data": {
            "text/plain": [
              "array([[400., 300., 300.],\n",
              "       [300., 400., 300.],\n",
              "       [300., 300., 400.]])"
            ]
          },
          "metadata": {},
          "execution_count": 12
        }
      ]
    },
    {
      "cell_type": "code",
      "source": [
        "\n",
        "\n",
        "d = np.eye(3)         # Create a 2x2 identity matrix\n",
        "print(d)              # Prints \"[[ 1.  0.]\n",
        "                      #          [ 0.  1.]]\"\n",
        "\n",
        "a = np.random.random((3,4))\n",
        "print(a)\n",
        "a = np.random.randint(0,10,(3,4))\n",
        "print(a)"
      ],
      "metadata": {
        "colab": {
          "base_uri": "https://localhost:8080/"
        },
        "id": "8RYP-yfGwrmj",
        "outputId": "081342a1-9b9a-4da5-f6de-7b15c9572e72"
      },
      "execution_count": null,
      "outputs": [
        {
          "output_type": "stream",
          "name": "stdout",
          "text": [
            "[[1. 0. 0.]\n",
            " [0. 1. 0.]\n",
            " [0. 0. 1.]]\n",
            "[[0.60044208 0.29100377 0.7750182  0.85851037]\n",
            " [0.38984119 0.36540747 0.04580267 0.7798165 ]\n",
            " [0.35265288 0.52435649 0.69279304 0.66740161]]\n",
            "[[8 1 8 6]\n",
            " [9 9 8 2]\n",
            " [9 6 3 0]]\n"
          ]
        }
      ]
    },
    {
      "cell_type": "markdown",
      "source": [
        "## slicing"
      ],
      "metadata": {
        "id": "eI9G3DoIyNHi"
      }
    },
    {
      "cell_type": "code",
      "source": [
        "a = np.array([\n",
        "              [1, 2, 3, 4],\n",
        "              [5, 6, 7, 8],\n",
        "              [9, 0, 1, 2]\n",
        "              ])"
      ],
      "metadata": {
        "id": "D2utnO8FwZe5"
      },
      "execution_count": null,
      "outputs": []
    },
    {
      "cell_type": "code",
      "source": [
        "a[:, :]"
      ],
      "metadata": {
        "colab": {
          "base_uri": "https://localhost:8080/"
        },
        "id": "Ku71sc3AhCwI",
        "outputId": "5fe388cb-9598-4ffa-d6fa-968c5d3af748"
      },
      "execution_count": null,
      "outputs": [
        {
          "output_type": "execute_result",
          "data": {
            "text/plain": [
              "array([[1, 2, 3, 4],\n",
              "       [5, 6, 7, 8],\n",
              "       [9, 0, 1, 2]])"
            ]
          },
          "metadata": {},
          "execution_count": 22
        }
      ]
    },
    {
      "cell_type": "code",
      "source": [
        "print(a[1:3,:], '\\n')\n",
        "print(a[1:3,2:], '\\n')\n",
        "print(a[1:3,2:3], '\\n')"
      ],
      "metadata": {
        "colab": {
          "base_uri": "https://localhost:8080/"
        },
        "id": "7v_2-XKFrlgc",
        "outputId": "0fe2518f-33ab-4c47-f9a1-559c64777886"
      },
      "execution_count": null,
      "outputs": [
        {
          "output_type": "stream",
          "name": "stdout",
          "text": [
            "[[5 6 7 8]\n",
            " [9 0 1 2]] \n",
            "\n",
            "[[7 8]\n",
            " [1 2]] \n",
            "\n",
            "[[7]\n",
            " [1]] \n",
            "\n"
          ]
        }
      ]
    },
    {
      "cell_type": "markdown",
      "source": [
        "## datatype"
      ],
      "metadata": {
        "id": "tRGLO1DjyPLb"
      }
    },
    {
      "cell_type": "code",
      "source": [
        "# you can explicitly specify data type\n",
        "# basic data types https://numpy.org/doc/stable/user/basics.types.html\n",
        "x = np.array([[1,2],[3,4]], dtype=np.float32)\n",
        "y = np.array([[5,6],[7,8]], dtype=np.float64)"
      ],
      "metadata": {
        "id": "LTIEg5HMxalN"
      },
      "execution_count": null,
      "outputs": []
    },
    {
      "cell_type": "code",
      "source": [
        "a = np.array()\n",
        "print(a)"
      ],
      "metadata": {
        "colab": {
          "base_uri": "https://localhost:8080/"
        },
        "id": "v9nRhjGMds6o",
        "outputId": "ce003058-541c-4e1a-f226-e9b8b434c235"
      },
      "execution_count": null,
      "outputs": [
        {
          "output_type": "stream",
          "name": "stdout",
          "text": [
            "[3 4]\n"
          ]
        }
      ]
    },
    {
      "cell_type": "code",
      "source": [
        "# input 2d array of shape (3,4)\n",
        "\n",
        "arr = []\n",
        "\n",
        "for i in range(3):\n",
        "  arr.append([])\n",
        "  for  j in range(4):\n",
        "    x = int(input())\n",
        "    arr[i].append(x)\n",
        "\n",
        "arr"
      ],
      "metadata": {
        "colab": {
          "base_uri": "https://localhost:8080/"
        },
        "id": "qNvI9JkDiZyP",
        "outputId": "d0316d91-1bd4-4a28-cbb1-230a81442a1b"
      },
      "execution_count": null,
      "outputs": [
        {
          "name": "stdout",
          "output_type": "stream",
          "text": [
            "1\n",
            "2\n",
            "3\n",
            "4\n",
            "5\n",
            "6\n",
            "7\n",
            "8\n",
            "9\n",
            "10\n",
            "11\n",
            "12\n"
          ]
        },
        {
          "output_type": "execute_result",
          "data": {
            "text/plain": [
              "[[1, 2, 3, 4], [5, 6, 7, 8], [9, 10, 11, 12]]"
            ]
          },
          "metadata": {},
          "execution_count": 31
        }
      ]
    },
    {
      "cell_type": "code",
      "source": [
        "2# input 3D array\n",
        "arr = []\n",
        "for k in range(0,1):\n",
        "  arr.append([])\n",
        "  for i in range(0,3):\n",
        "      arr[k].append([])\n",
        "      for j in range(0,3):\n",
        "          x = int(input())\n",
        "          arr[k][i].append(x)\n",
        "\n",
        "\n",
        "arr\n",
        "#arr = np.array(arr)\n",
        "#print('\\n', arr)"
      ],
      "metadata": {
        "id": "wsGC0F-heapR",
        "colab": {
          "base_uri": "https://localhost:8080/",
          "height": 274
        },
        "outputId": "328ea196-d036-47da-dde3-aa01248f4e4c"
      },
      "execution_count": null,
      "outputs": [
        {
          "name": "stdout",
          "output_type": "stream",
          "text": [
            "1\n",
            "2\n",
            "\n"
          ]
        },
        {
          "output_type": "error",
          "ename": "ValueError",
          "evalue": "invalid literal for int() with base 10: ''",
          "traceback": [
            "\u001b[0;31m---------------------------------------------------------------------------\u001b[0m",
            "\u001b[0;31mValueError\u001b[0m                                Traceback (most recent call last)",
            "\u001b[0;32m<ipython-input-23-0ea0e36ded16>\u001b[0m in \u001b[0;36m<cell line: 0>\u001b[0;34m()\u001b[0m\n\u001b[1;32m      6\u001b[0m       \u001b[0marr\u001b[0m\u001b[0;34m[\u001b[0m\u001b[0mk\u001b[0m\u001b[0;34m]\u001b[0m\u001b[0;34m.\u001b[0m\u001b[0mappend\u001b[0m\u001b[0;34m(\u001b[0m\u001b[0;34m[\u001b[0m\u001b[0;34m]\u001b[0m\u001b[0;34m)\u001b[0m\u001b[0;34m\u001b[0m\u001b[0;34m\u001b[0m\u001b[0m\n\u001b[1;32m      7\u001b[0m       \u001b[0;32mfor\u001b[0m \u001b[0mj\u001b[0m \u001b[0;32min\u001b[0m \u001b[0mrange\u001b[0m\u001b[0;34m(\u001b[0m\u001b[0;36m0\u001b[0m\u001b[0;34m,\u001b[0m\u001b[0;36m3\u001b[0m\u001b[0;34m)\u001b[0m\u001b[0;34m:\u001b[0m\u001b[0;34m\u001b[0m\u001b[0;34m\u001b[0m\u001b[0m\n\u001b[0;32m----> 8\u001b[0;31m           \u001b[0mx\u001b[0m \u001b[0;34m=\u001b[0m \u001b[0mint\u001b[0m\u001b[0;34m(\u001b[0m\u001b[0minput\u001b[0m\u001b[0;34m(\u001b[0m\u001b[0;34m)\u001b[0m\u001b[0;34m)\u001b[0m\u001b[0;34m\u001b[0m\u001b[0;34m\u001b[0m\u001b[0m\n\u001b[0m\u001b[1;32m      9\u001b[0m           \u001b[0marr\u001b[0m\u001b[0;34m[\u001b[0m\u001b[0mk\u001b[0m\u001b[0;34m]\u001b[0m\u001b[0;34m[\u001b[0m\u001b[0mi\u001b[0m\u001b[0;34m]\u001b[0m\u001b[0;34m.\u001b[0m\u001b[0mappend\u001b[0m\u001b[0;34m(\u001b[0m\u001b[0mx\u001b[0m\u001b[0;34m)\u001b[0m\u001b[0;34m\u001b[0m\u001b[0;34m\u001b[0m\u001b[0m\n\u001b[1;32m     10\u001b[0m \u001b[0;34m\u001b[0m\u001b[0m\n",
            "\u001b[0;31mValueError\u001b[0m: invalid literal for int() with base 10: ''"
          ]
        }
      ]
    },
    {
      "cell_type": "code",
      "source": [
        "arr = np.array(arr)\n",
        "arr.shape"
      ],
      "metadata": {
        "colab": {
          "base_uri": "https://localhost:8080/"
        },
        "id": "xxyxuwJyiDY3",
        "outputId": "879ad22a-fc1f-466f-c44f-7152ea1fde97"
      },
      "execution_count": null,
      "outputs": [
        {
          "output_type": "execute_result",
          "data": {
            "text/plain": [
              "(1, 3, 3)"
            ]
          },
          "metadata": {},
          "execution_count": 29
        }
      ]
    },
    {
      "cell_type": "markdown",
      "source": [
        "2## operations: add, mult, div etc."
      ],
      "metadata": {
        "id": "4S32oTb5yTq4"
      }
    },
    {
      "cell_type": "code",
      "source": [
        "x = np.array([[1,2],[3,4]])\n",
        "y = np.array([[5,6],[7,8]])\n",
        "\n",
        "print(x + y)\n",
        "print(x - y)\n",
        "print(np.add(x, y)) #time complexity O(1) if we use GPU\n",
        "\n",
        "print( x+100 )\n",
        "print((x+100) / 2)"
      ],
      "metadata": {
        "colab": {
          "base_uri": "https://localhost:8080/"
        },
        "id": "vFzXsskWxrIr",
        "outputId": "aa0decb8-5247-4bc4-dddb-a23689426c1c"
      },
      "execution_count": null,
      "outputs": [
        {
          "output_type": "stream",
          "name": "stdout",
          "text": [
            "[[ 6  8]\n",
            " [10 12]]\n",
            "[[-4 -4]\n",
            " [-4 -4]]\n",
            "[[ 6  8]\n",
            " [10 12]]\n",
            "[[101 102]\n",
            " [103 104]]\n",
            "[[50.5 51. ]\n",
            " [51.5 52. ]]\n"
          ]
        }
      ]
    },
    {
      "cell_type": "code",
      "source": [
        "z= x/y\n",
        "print(z)"
      ],
      "metadata": {
        "colab": {
          "base_uri": "https://localhost:8080/"
        },
        "id": "DflJ08m2ycVf",
        "outputId": "0e10e74e-1469-4b81-9d26-79e33efa4aaf"
      },
      "execution_count": null,
      "outputs": [
        {
          "output_type": "stream",
          "name": "stdout",
          "text": [
            "[[0.2        0.33333333]\n",
            " [0.42857143 0.5       ]]\n"
          ]
        }
      ]
    },
    {
      "cell_type": "code",
      "source": [
        "z = x*y # element wise multiplication\n",
        "print(z)"
      ],
      "metadata": {
        "colab": {
          "base_uri": "https://localhost:8080/"
        },
        "id": "Tsah7_ucyj2X",
        "outputId": "c146ea9e-b52b-4e1d-c179-e53dac94d238"
      },
      "execution_count": null,
      "outputs": [
        {
          "output_type": "stream",
          "name": "stdout",
          "text": [
            "[[ 5 12]\n",
            " [21 32]]\n"
          ]
        }
      ]
    },
    {
      "cell_type": "code",
      "source": [
        "print(x.dot(y)) # matrix multiplication / dot product\n",
        "print(np.dot(x, y))\n",
        "\n",
        "# https://www.mathsisfun.com/algebra/matrix-multiplying.html  -> matrix dot product"
      ],
      "metadata": {
        "colab": {
          "base_uri": "https://localhost:8080/"
        },
        "id": "TzL3yqeVyxiT",
        "outputId": "3cfa7607-a1f2-4f66-f648-a5027996d41b"
      },
      "execution_count": null,
      "outputs": [
        {
          "output_type": "stream",
          "name": "stdout",
          "text": [
            "[[19 22]\n",
            " [43 50]]\n",
            "[[19 22]\n",
            " [43 50]]\n"
          ]
        }
      ]
    },
    {
      "cell_type": "code",
      "source": [
        "x = np.array([\n",
        "              [1,2,5],\n",
        "              [3,4,1]\n",
        "              ])\n",
        "\n",
        "print(np.sum(x))  # Compute sum of all elements; prints \"10\"\n",
        "print(np.sum(x, axis=0))  # Compute sum of each column; prints \"[4 6 6]\"\n",
        "print(np.sum(x, axis=1))  # Compute sum of each row; prints \"[8 8]\"\n"
      ],
      "metadata": {
        "colab": {
          "base_uri": "https://localhost:8080/"
        },
        "id": "z53n0oNHzFIw",
        "outputId": "04d47ffe-4c36-4b64-cd5b-4527580a30f8"
      },
      "execution_count": null,
      "outputs": [
        {
          "output_type": "stream",
          "name": "stdout",
          "text": [
            "16\n",
            "[4 6 6]\n",
            "[8 8]\n"
          ]
        }
      ]
    },
    {
      "cell_type": "code",
      "source": [
        "import numpy as np\n",
        "x = np.array([\n",
        "                [\n",
        "                    [1,2,5],\n",
        "                    [3,4,6]\n",
        "                ],[\n",
        "                    [7,8,9],\n",
        "                    [10,11,12]\n",
        "                ]\n",
        "            ]\n",
        "              )\n",
        "print(x.shape)\n",
        "print(x[0,1,2])\n",
        "print(np.sum(x, axis=0))\n",
        "print(np.sum(x, axis=1))\n",
        "print(np.sum(x, axis=2))"
      ],
      "metadata": {
        "colab": {
          "base_uri": "https://localhost:8080/"
        },
        "id": "gF2JHmGGy2ID",
        "outputId": "322c2ea5-9565-4a11-ac92-00e23c926e65"
      },
      "execution_count": null,
      "outputs": [
        {
          "output_type": "stream",
          "name": "stdout",
          "text": [
            "(2, 2, 3)\n",
            "6\n",
            "[[ 8 10 14]\n",
            " [13 15 18]]\n",
            "[[ 4  6 11]\n",
            " [17 19 21]]\n",
            "[[ 8 13]\n",
            " [24 33]]\n"
          ]
        }
      ]
    },
    {
      "cell_type": "code",
      "source": [
        "# print(np.sum(x, axis=0))\n",
        "# shape is\n",
        "x = np.array([\n",
        "                [\n",
        "                    [1,2,5],\n",
        "                    [3,4,6]\n",
        "                ],[\n",
        "                    [7,8,9],\n",
        "                    [10,11,12]\n",
        "                ]\n",
        "            ])\n",
        "\n"
      ],
      "metadata": {
        "id": "Zj_STbvH0B7m"
      },
      "execution_count": null,
      "outputs": []
    },
    {
      "cell_type": "code",
      "source": [
        "x[0, 1, 1], x[1, 1, 1]"
      ],
      "metadata": {
        "colab": {
          "base_uri": "https://localhost:8080/"
        },
        "id": "rAO5LRacBeL9",
        "outputId": "51c64add-24b6-4066-ae07-9e4503984827"
      },
      "execution_count": null,
      "outputs": [
        {
          "output_type": "execute_result",
          "data": {
            "text/plain": [
              "(4, 11)"
            ]
          },
          "metadata": {},
          "execution_count": 38
        }
      ]
    },
    {
      "cell_type": "code",
      "source": [
        "print(x.shape)\n",
        "\n",
        "# (i, j, k) = (2, 2, 3)\n",
        "for j in range(0, 2):\n",
        "    for k in range(0, 3):\n",
        "        sum = 0\n",
        "        for i in range(0, 2):\n",
        "            sum += x[i, j, k]\n",
        "        print(sum, end=' ')\n",
        "    print()"
      ],
      "metadata": {
        "id": "0g1Au-IABbBe"
      },
      "execution_count": null,
      "outputs": []
    },
    {
      "cell_type": "code",
      "source": [
        "x = np.array([\n",
        "              [1,2,5],\n",
        "              [3,4,1]\n",
        "              ])\n",
        "print(x)\n",
        "\n",
        "# matrix transpose\n",
        "print(x.T)"
      ],
      "metadata": {
        "colab": {
          "base_uri": "https://localhost:8080/"
        },
        "id": "TVIhZ-u4zPSv",
        "outputId": "54af36bd-6439-4111-9f49-ed67171b6ace"
      },
      "execution_count": null,
      "outputs": [
        {
          "output_type": "stream",
          "name": "stdout",
          "text": [
            "[[1 2 5]\n",
            " [3 4 1]]\n",
            "[[1 3]\n",
            " [2 4]\n",
            " [5 1]]\n"
          ]
        }
      ]
    },
    {
      "cell_type": "code",
      "source": [
        "print(np.sqrt(x))"
      ],
      "metadata": {
        "colab": {
          "base_uri": "https://localhost:8080/"
        },
        "id": "gqUAiMKt0VBb",
        "outputId": "19afe362-af69-40a9-e857-d4bb3107cf40"
      },
      "execution_count": null,
      "outputs": [
        {
          "output_type": "stream",
          "name": "stdout",
          "text": [
            "[[1.         1.41421356 2.23606798]\n",
            " [1.73205081 2.         1.        ]]\n"
          ]
        }
      ]
    },
    {
      "cell_type": "code",
      "source": [
        "# conversion\n",
        "a = [[1,2,3],[4,5,6]]\n",
        "print(type(a))\n",
        "\n",
        "a= np.array(a)\n",
        "print(type(a))\n",
        "\n",
        "a= a.tolist()\n",
        "print(a)\n",
        "print(type(a))"
      ],
      "metadata": {
        "colab": {
          "base_uri": "https://localhost:8080/"
        },
        "id": "PPdtmnjEzsqL",
        "outputId": "8ba6cbc5-ed83-4cc8-cb95-721fcd2093a2"
      },
      "execution_count": null,
      "outputs": [
        {
          "output_type": "stream",
          "name": "stdout",
          "text": [
            "<class 'list'>\n",
            "<class 'numpy.ndarray'>\n",
            "[[1, 2, 3], [4, 5, 6]]\n",
            "<class 'list'>\n"
          ]
        }
      ]
    },
    {
      "cell_type": "code",
      "source": [
        "a = [[1,2,3],[4,5,6]]\n",
        "print(a)\n",
        "b = a # copy by reference\n",
        "# b = a.copy() # copy by value\n",
        "b[0] = 999\n",
        "print(a)"
      ],
      "metadata": {
        "colab": {
          "base_uri": "https://localhost:8080/"
        },
        "id": "VfJ_t5syvjrq",
        "outputId": "58361ed9-be4b-448f-e9d6-2c5636686540"
      },
      "execution_count": null,
      "outputs": [
        {
          "output_type": "stream",
          "name": "stdout",
          "text": [
            "[[1, 2, 3], [4, 5, 6]]\n",
            "[999, [4, 5, 6]]\n"
          ]
        }
      ]
    },
    {
      "cell_type": "markdown",
      "source": [
        "## reshape"
      ],
      "metadata": {
        "id": "V_BNkHOO1C3r"
      }
    },
    {
      "cell_type": "code",
      "source": [
        "# 2d array\n",
        "a = np.array([[1,2,3,4,5,6,7,8,9,10,11,12]])\n",
        "a.shape"
      ],
      "metadata": {
        "colab": {
          "base_uri": "https://localhost:8080/"
        },
        "id": "fphDvMCVIAQI",
        "outputId": "adeac35c-841e-441b-c9e4-2c85fe574162"
      },
      "execution_count": null,
      "outputs": [
        {
          "output_type": "execute_result",
          "data": {
            "text/plain": [
              "(1, 12)"
            ]
          },
          "metadata": {},
          "execution_count": 41
        }
      ]
    },
    {
      "cell_type": "code",
      "source": [
        "b = np.reshape(a, (1,1,2,6))\n",
        "b"
      ],
      "metadata": {
        "colab": {
          "base_uri": "https://localhost:8080/"
        },
        "id": "EZLiybYTCuvQ",
        "outputId": "ee61bb2d-5147-4483-c8d6-e0189a86dbf7"
      },
      "execution_count": null,
      "outputs": [
        {
          "output_type": "execute_result",
          "data": {
            "text/plain": [
              "array([[[[1, 2, 3, 4, 5, 6],\n",
              "         [7, 8, 9, 0, 1, 2]]]])"
            ]
          },
          "metadata": {},
          "execution_count": 28
        }
      ]
    },
    {
      "cell_type": "code",
      "source": [
        "culprit1 = np.reshape(a, (1,1,1,1,12))\n",
        "culprit1"
      ],
      "metadata": {
        "colab": {
          "base_uri": "https://localhost:8080/"
        },
        "id": "-7KZT3iXILSw",
        "outputId": "801e8914-cc32-462a-8e46-410f05203c1b"
      },
      "execution_count": null,
      "outputs": [
        {
          "output_type": "execute_result",
          "data": {
            "text/plain": [
              "array([[[[[ 1,  2,  3,  4,  5,  6,  7,  8,  9, 10, 11, 12]]]]])"
            ]
          },
          "metadata": {},
          "execution_count": 46
        }
      ]
    },
    {
      "cell_type": "code",
      "source": [
        "v = np.array([1,2,3])  # v has shape (3,)\n",
        "w = np.array([4,5])    # w has shape (2,)\n",
        "# print(v * w) # can't do this, need to reshape\n",
        "\n",
        "v = np.reshape(v, (3, 1))\n",
        "v"
      ],
      "metadata": {
        "colab": {
          "base_uri": "https://localhost:8080/"
        },
        "id": "UP6GjgTistqc",
        "outputId": "b5220fdd-af8c-4051-b5f8-721003dd41b6"
      },
      "execution_count": null,
      "outputs": [
        {
          "output_type": "execute_result",
          "data": {
            "text/plain": [
              "array([[1],\n",
              "       [2],\n",
              "       [3]])"
            ]
          },
          "metadata": {},
          "execution_count": 49
        }
      ]
    },
    {
      "cell_type": "code",
      "source": [
        "\n",
        "\n",
        "print(v * w)"
      ],
      "metadata": {
        "colab": {
          "base_uri": "https://localhost:8080/"
        },
        "id": "ABpj8SSv1EM0",
        "outputId": "7256b240-1276-42b5-9168-61054403b025"
      },
      "execution_count": null,
      "outputs": [
        {
          "output_type": "stream",
          "name": "stdout",
          "text": [
            "(3, 1)\n",
            "[[ 4  5]\n",
            " [ 8 10]\n",
            " [12 15]]\n"
          ]
        }
      ]
    },
    {
      "cell_type": "code",
      "source": [
        "v = np.array([\n",
        "              [1,2,3],\n",
        "              [4,5,6]\n",
        "              ])\n",
        "w = np.array([[6,7]])\n",
        "print(v.shape, w.shape)\n",
        "# print(v.dot(w)) # can't do this\n",
        "\n",
        "v = np.reshape(w, (2, 1))\n",
        "print(v.shape)\n",
        "\n",
        "print(v.dot(w))\n",
        "\n",
        "y = np.array([\n",
        "              [1,2,3],\n",
        "              [4,5,6]\n",
        "              ])\n",
        "# print(y.dot(w)) # can't do this\n",
        "print(y.shape, w.shape)\n",
        "print(y.T.dot(w.T))"
      ],
      "metadata": {
        "colab": {
          "base_uri": "https://localhost:8080/"
        },
        "id": "VuPgvcir1coP",
        "outputId": "f0c5e92c-0f1f-4583-8695-09cad2e3c66f"
      },
      "execution_count": null,
      "outputs": [
        {
          "output_type": "stream",
          "name": "stdout",
          "text": [
            "(2, 3) (1, 2)\n",
            "(2, 1)\n",
            "[[36 42]\n",
            " [42 49]]\n",
            "(2, 3) (1, 2)\n",
            "[[34]\n",
            " [47]\n",
            " [60]]\n"
          ]
        }
      ]
    },
    {
      "cell_type": "markdown",
      "source": [
        "# matplotlib"
      ],
      "metadata": {
        "id": "pSaWs3MJ0HS7"
      }
    },
    {
      "cell_type": "code",
      "source": [
        "import numpy as np\n",
        "import matplotlib.pyplot as plt\n",
        "import math\n",
        "\n",
        "# Compute the x and y coordinates for points on a sine curve\n",
        "x = np.arange(0, 3 * np.pi, 0.001) # [0, 0.1, 0.2, 0.3, ... 3*3.1416]#\n",
        "y1 = np.sin(x)\n",
        "y2 = np.cos(x)\n",
        "y = 2*x\n",
        "\n",
        "print(x)\n",
        "print(y1)\n",
        "\n",
        "plt.plot(x, y1, 'r')\n",
        "plt.plot(x, y2, 'b')\n",
        "plt.plot(x,y, 'g')\n",
        "plt.show()  # You must call plt.show() to make graphics appear"
      ],
      "metadata": {
        "colab": {
          "base_uri": "https://localhost:8080/",
          "height": 467
        },
        "id": "pc4sHSju0C8g",
        "outputId": "2c3992a1-7df5-4445-ac9d-0b01c2bb00cb"
      },
      "execution_count": null,
      "outputs": [
        {
          "output_type": "stream",
          "name": "stdout",
          "text": [
            "[0.000e+00 1.000e-03 2.000e-03 ... 9.422e+00 9.423e+00 9.424e+00]\n",
            "[0.         0.001      0.002      ... 0.00277796 0.00177796 0.00077796]\n"
          ]
        },
        {
          "output_type": "display_data",
          "data": {
            "text/plain": [
              "<Figure size 640x480 with 1 Axes>"
            ],
            "image/png": "[encoded data removed]"
          },
          "metadata": {}
        }
      ]
    },
    {
      "cell_type": "code",
      "source": [
        "x = np.arange(0, 2, 0.5)\n",
        "print(x)\n",
        "y = 2 * x\n",
        "print(y)"
      ],
      "metadata": {
        "colab": {
          "base_uri": "https://localhost:8080/"
        },
        "id": "bHAL414MhWWe",
        "outputId": "84c7942b-fbb2-4960-aec9-455d1e95a40a"
      },
      "execution_count": null,
      "outputs": [
        {
          "output_type": "stream",
          "name": "stdout",
          "text": [
            "[0.  0.5 1.  1.5]\n",
            "[0. 1. 2. 3.]\n"
          ]
        }
      ]
    },
    {
      "cell_type": "code",
      "source": [
        "import numpy as np\n",
        "import matplotlib.pyplot as plt\n",
        "\n",
        "# Compute the x and y coordinates for points on sine and cosine curves\n",
        "x = np.arange(0, 3 * np.pi, 0.1)\n",
        "y_sin = np.sin(x)\n",
        "y_cos = np.cos(x)\n",
        "y_tan = np.tan(x)\n",
        "\n",
        "# Plot the points using matplotlib\n",
        "plt.plot(x, y_sin, color='red')\n",
        "plt.plot(x, y_cos, 'blue')\n",
        "plt.plot(x, y_tan, 'green')\n",
        "plt.xlabel('x axis label')\n",
        "plt.ylabel('y axis label')\n",
        "plt.title('Sine and Cosine')\n",
        "plt.legend(['Sine', 'Cosine', \"tan hello\"])\n",
        "plt.show()"
      ],
      "metadata": {
        "colab": {
          "base_uri": "https://localhost:8080/",
          "height": 472
        },
        "id": "4aCF5T9hEvXo",
        "outputId": "462933e0-1192-438f-ab24-7a3e5939996d"
      },
      "execution_count": null,
      "outputs": [
        {
          "output_type": "display_data",
          "data": {
            "text/plain": [
              "<Figure size 640x480 with 1 Axes>"
            ],
            "image/png": "[encoded data removed]"
          },
          "metadata": {}
        }
      ]
    },
    {
      "cell_type": "markdown",
      "source": [
        "# Priority Queue"
      ],
      "metadata": {
        "id": "ndf3-omFvXHt"
      }
    },
    {
      "cell_type": "code",
      "source": [
        "A = [\n",
        "     ['S', 10],\n",
        "     ['A', 12],\n",
        "     ['G', 0]\n",
        "]\n"
      ],
      "metadata": {
        "id": "fthtHZhzvZTj"
      },
      "execution_count": null,
      "outputs": []
    }
  ]
}