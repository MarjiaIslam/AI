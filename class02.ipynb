{
 "cells": [
  {
   "cell_type": "code",
   "execution_count": null,
   "metadata": {},
   "outputs": [
    {
     "name": "stdout",
     "output_type": "stream",
     "text": [
      "[3, 4, 5, 6]\n",
      "[3, 4, 5, 6]\n"
     ]
    }
   ],
   "source": [
    "a = [3,4,5]\n",
    "b = a   ## That's called copy by reference \n",
    "b.append(6)\n",
    "print(b) \n",
    "print(a)"
   ]
  },
  {
   "cell_type": "code",
   "execution_count": null,
   "metadata": {},
   "outputs": [
    {
     "name": "stdout",
     "output_type": "stream",
     "text": [
      "[3, 4, 5, 6, 6]\n",
      "[3, 4, 5, 6]\n"
     ]
    }
   ],
   "source": [
    "b = a.copy() ## copy by value\n",
    "b.append(6)\n",
    "print(b) \n",
    "print(a)\n"
   ]
  },
  {
   "cell_type": "code",
   "execution_count": null,
   "metadata": {},
   "outputs": [
    {
     "name": "stdout",
     "output_type": "stream",
     "text": [
      "[3, 4, 5, [4, 6]]\n",
      "[3, 4, 5, [4]]\n"
     ]
    }
   ],
   "source": [
    "import copy\n",
    "a = [3, 4, 5, [4]]\n",
    "b = copy.deepcopy(a)  ## for being able to use [copy.] we imported copy \n",
    "b[-1].append(6)\n",
    "print(b) \n",
    "print(a)\n"
   ]
  },
  {
   "cell_type": "markdown",
   "metadata": {},
   "source": [
    "### OOP by Python"
   ]
  },
  {
   "cell_type": "markdown",
   "metadata": {},
   "source": [
    "### numpy "
   ]
  },
  {
   "cell_type": "markdown",
   "metadata": {},
   "source": [
    "In python 1D array means a list, by using numpy we can convert any list into an array. we gonna import numpy so that we won't have to use [numpy.] again & again rather we'll use [np.] \n",
    "If the shape of the array is like: (n,) where n = size; it's 1D array. \n",
    "If the shape of the array is like: (x,y) then it's a 2D array; \n",
    "where x = how many 1D lists or 1D arrays are in there {ROW}, y = how many elements are inside the 1D arrays or lists {COLUMN}."
   ]
  },
  {
   "cell_type": "code",
   "execution_count": null,
   "metadata": {},
   "outputs": [
    {
     "name": "stdout",
     "output_type": "stream",
     "text": [
      "(3,)\n"
     ]
    }
   ],
   "source": [
    "import numpy as np\n",
    "arr = [1, 2, 3]\n",
    "arr = np.array(arr) ## Now the list has become an array \n",
    "print(arr.shape)   \n",
    "##print(arr.size)"
   ]
  },
  {
   "cell_type": "code",
   "execution_count": 22,
   "metadata": {},
   "outputs": [
    {
     "name": "stdout",
     "output_type": "stream",
     "text": [
      "(2, 3)\n",
      "2\n",
      "[2 3 4]\n",
      "[[2 3 4]\n",
      " [1 3 5]]\n"
     ]
    }
   ],
   "source": [
    "## 2D array\n",
    "\n",
    "arr = [[2, 3, 4], \n",
    "       [1, 3, 5]]\n",
    "arr = np.array(arr)\n",
    "print(arr.shape)\n",
    "print(arr[0,0])  ## It can be written as arr[0][0] too.\n",
    "print(arr[0])    ## Row only \n",
    "print(arr)"
   ]
  },
  {
   "cell_type": "code",
   "execution_count": 15,
   "metadata": {},
   "outputs": [
    {
     "name": "stdout",
     "output_type": "stream",
     "text": [
      "[[0.86345742 0.39957839 0.81358749]\n",
      " [0.05850842 0.09848572 0.23801013]\n",
      " [0.2963319  0.75718425 0.50032003]]\n",
      "[[31 36 14 20 19]\n",
      " [ 4 44 39 28  2]\n",
      " [27 18 38 43 31]\n",
      " [28 27 19  9 24]]\n"
     ]
    }
   ],
   "source": [
    "x = np.random.random((3,3))\n",
    "print(x)\n",
    "y = np.random.randint(0, 50,(4,5))\n",
    "print (y)"
   ]
  },
  {
   "cell_type": "code",
   "execution_count": 18,
   "metadata": {},
   "outputs": [
    {
     "name": "stdout",
     "output_type": "stream",
     "text": [
      "[[0. 0. 0. 0. 0.]\n",
      " [0. 0. 0. 0. 0.]\n",
      " [0. 0. 0. 0. 0.]\n",
      " [0. 0. 0. 0. 0.]]\n",
      "[[1. 1. 1. 1. 1.]\n",
      " [1. 1. 1. 1. 1.]\n",
      " [1. 1. 1. 1. 1.]\n",
      " [1. 1. 1. 1. 1.]]\n",
      "[[7 7 7 7 7]\n",
      " [7 7 7 7 7]\n",
      " [7 7 7 7 7]\n",
      " [7 7 7 7 7]]\n"
     ]
    }
   ],
   "source": [
    "z = np.zeros((4,5))\n",
    "print(z)\n",
    "n = np.ones((4,5))\n",
    "print(n)\n",
    "f = np.full((4,5),7)\n",
    "print(f)"
   ]
  },
  {
   "cell_type": "code",
   "execution_count": 24,
   "metadata": {},
   "outputs": [
    {
     "name": "stdout",
     "output_type": "stream",
     "text": [
      "[[1. 0. 0.]\n",
      " [0. 1. 0.]\n",
      " [0. 0. 1.]]\n",
      "[[400. 300. 300.]\n",
      " [300. 400. 300.]\n",
      " [300. 300. 400.]]\n"
     ]
    }
   ],
   "source": [
    "d = np.eye(3) ## since identity matrix is a square matrix (3) means (3,3) / (3x3)\n",
    "print(d)\n",
    "d1 = (d+3)*100\n",
    "print(d1)\n",
    "\n",
    " "
   ]
  },
  {
   "cell_type": "code",
   "execution_count": 29,
   "metadata": {},
   "outputs": [
    {
     "name": "stdout",
     "output_type": "stream",
     "text": [
      "[[3 4]\n",
      " [7 8]]\n"
     ]
    }
   ],
   "source": [
    "## Slicing\n",
    "a = np.array([\n",
    "              [1, 2, 3, 4],\n",
    "              [5, 6, 7, 8],\n",
    "              [9, 0, 1, 2]\n",
    "              ])\n",
    "\n",
    "print(a[0:2, 2:])"
   ]
  },
  {
   "cell_type": "code",
   "execution_count": 30,
   "metadata": {},
   "outputs": [
    {
     "name": "stdout",
     "output_type": "stream",
     "text": [
      "[[ 6  8]\n",
      " [10 12]]\n",
      "[[-4 -4]\n",
      " [-4 -4]]\n",
      "[[ 6  8]\n",
      " [10 12]]\n",
      "[[101 102]\n",
      " [103 104]]\n",
      "[[50.5 51. ]\n",
      " [51.5 52. ]]\n",
      "[[19 22]\n",
      " [43 50]]\n",
      "\n"
     ]
    }
   ],
   "source": [
    "x = np.array([[1,2],[3,4]])\n",
    "y = np.array([[5,6],[7,8]])\n",
    "\n",
    "print(x + y)\n",
    "print(x - y)\n",
    "print(np.add(x, y)) # it works faster\n",
    "\n",
    "print(x + 100)\n",
    "print((x + 100) / 2)\n",
    "print(np.dot(x,y))\n",
    "print()"
   ]
  },
  {
   "cell_type": "markdown",
   "metadata": {},
   "source": [
    "By using toList() we can convert an array into a list."
   ]
  },
  {
   "cell_type": "code",
   "execution_count": null,
   "metadata": {},
   "outputs": [],
   "source": [
    "## Reshape\n"
   ]
  },
  {
   "cell_type": "code",
   "execution_count": 32,
   "metadata": {},
   "outputs": [],
   "source": [
    "import numpy as np\n",
    "import matplotlib.pyplot as plt\n",
    "import math"
   ]
  },
  {
   "cell_type": "code",
   "execution_count": null,
   "metadata": {},
   "outputs": [],
   "source": []
  }
 ],
 "metadata": {
  "kernelspec": {
   "display_name": "Python 3",
   "language": "python",
   "name": "python3"
  },
  "language_info": {
   "codemirror_mode": {
    "name": "ipython",
    "version": 3
   },
   "file_extension": ".py",
   "mimetype": "text/x-python",
   "name": "python",
   "nbconvert_exporter": "python",
   "pygments_lexer": "ipython3",
   "version": "3.13.0"
  }
 },
 "nbformat": 4,
 "nbformat_minor": 2
}
