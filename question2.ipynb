{
 "cells": [
  {
   "cell_type": "code",
   "execution_count": 17,
   "metadata": {},
   "outputs": [
    {
     "name": "stdout",
     "output_type": "stream",
     "text": [
      "1\n"
     ]
    }
   ],
   "source": [
    "def func():\n",
    "    n = int(input())\n",
    "    sum = 0\n",
    "    if (n%2!=0):\n",
    "        for i in range(1, n+1, 2):\n",
    "            sum += i**2\n",
    "            return sum   \n",
    "    elif (n%2==0):\n",
    "        for i in range(1, n+2, 2):\n",
    "            sum += i**2\n",
    "            return sum\n",
    "    else:\n",
    "        print(\"ERROR\") \n",
    "        \n",
    "x = func() \n",
    "print(x)\n",
    "        "
   ]
  },
  {
   "cell_type": "code",
   "execution_count": null,
   "metadata": {},
   "outputs": [],
   "source": []
  }
 ],
 "metadata": {
  "kernelspec": {
   "display_name": "Python 3",
   "language": "python",
   "name": "python3"
  },
  "language_info": {
   "codemirror_mode": {
    "name": "ipython",
    "version": 3
   },
   "file_extension": ".py",
   "mimetype": "text/x-python",
   "name": "python",
   "nbconvert_exporter": "python",
   "pygments_lexer": "ipython3",
   "version": "3.13.0"
  }
 },
 "nbformat": 4,
 "nbformat_minor": 2
}
